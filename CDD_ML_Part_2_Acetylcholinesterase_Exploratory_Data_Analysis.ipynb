{
  "cells": [
    {
      "cell_type": "markdown",
      "metadata": {
        "colab_type": "text",
        "id": "QmxXXFa4wTNG"
      },
      "source": [
        "## **Load bioactivity data**"
      ]
    },
    {
      "cell_type": "markdown",
      "metadata": {},
      "source": [
        "dependencies: use conda install -c conda-forge numpy scipy rdkit pandas -y"
      ]
    },
    {
      "cell_type": "code",
      "execution_count": 1,
      "metadata": {
        "colab": {},
        "colab_type": "code",
        "id": "Fpu5C7HlwV9s"
      },
      "outputs": [],
      "source": [
        "import pandas as pd"
      ]
    },
    {
      "cell_type": "code",
      "execution_count": 2,
      "metadata": {
        "colab": {
          "base_uri": "https://localhost:8080/",
          "height": 419
        },
        "colab_type": "code",
        "id": "GCcE8J5XwjtB",
        "outputId": "40a10f00-3d5f-4835-fdf8-2cb5acd8683c"
      },
      "outputs": [
        {
          "data": {
            "application/vnd.microsoft.datawrangler.viewer.v0+json": {
              "columns": [
                {
                  "name": "index",
                  "rawType": "int64",
                  "type": "integer"
                },
                {
                  "name": "molecule_chembl_id",
                  "rawType": "object",
                  "type": "string"
                },
                {
                  "name": "canonical_smiles",
                  "rawType": "object",
                  "type": "string"
                },
                {
                  "name": "standard_value",
                  "rawType": "float64",
                  "type": "float"
                },
                {
                  "name": "class",
                  "rawType": "object",
                  "type": "string"
                }
              ],
              "conversionMethod": "pd.DataFrame",
              "ref": "55d142a7-2930-4664-83f8-772c1bbbe910",
              "rows": [
                [
                  "0",
                  "CHEMBL133897",
                  "CCOc1nn(-c2cccc(OCc3ccccc3)c2)c(=O)o1",
                  "750.0",
                  "active"
                ],
                [
                  "1",
                  "CHEMBL336398",
                  "O=C(N1CCCCC1)n1nc(-c2ccc(Cl)cc2)nc1SCC1CC1",
                  "100.0",
                  "active"
                ],
                [
                  "2",
                  "CHEMBL131588",
                  "CN(C(=O)n1nc(-c2ccc(Cl)cc2)nc1SCC(F)(F)F)c1ccccc1",
                  "50000.0",
                  "inactive"
                ],
                [
                  "3",
                  "CHEMBL130628",
                  "O=C(N1CCCCC1)n1nc(-c2ccc(Cl)cc2)nc1SCC(F)(F)F",
                  "300.0",
                  "active"
                ],
                [
                  "4",
                  "CHEMBL130478",
                  "CSc1nc(-c2ccc(OC(F)(F)F)cc2)nn1C(=O)N(C)C",
                  "800.0",
                  "active"
                ],
                [
                  "5",
                  "CHEMBL130112",
                  "CSc1nc(-c2ccc(C)cc2)nn1C(=O)N(C)c1ccccc1",
                  "2400.0",
                  "intermediate"
                ],
                [
                  "6",
                  "CHEMBL130098",
                  "CSc1nc(-c2ccc(Cl)cc2)nn1C(=O)N(C)C",
                  "100.0",
                  "active"
                ],
                [
                  "7",
                  "CHEMBL337486",
                  "CCCCCCSc1nc(-c2ccc(Cl)cc2)nn1C(=O)N1CCOCC1",
                  "50000.0",
                  "inactive"
                ],
                [
                  "8",
                  "CHEMBL336538",
                  "COc1ccc(-c2nc(SC)n(C(=O)N(C)C)n2)cc1",
                  "800.0",
                  "active"
                ],
                [
                  "9",
                  "CHEMBL131051",
                  "CSc1nc(-c2ccc(OC(F)(F)F)cc2)nn1C(=O)N(C)c1ccccc1",
                  "50000.0",
                  "inactive"
                ],
                [
                  "10",
                  "CHEMBL341437",
                  "CCSc1nc(-c2ccc(OC)cc2)nn1C(=O)N1CCOCC1",
                  "50000.0",
                  "inactive"
                ],
                [
                  "11",
                  "CHEMBL335033",
                  "CSc1nc(-c2ccc3ccccc3c2)nn1C(=O)N(C)C",
                  "50.0",
                  "active"
                ],
                [
                  "12",
                  "CHEMBL122983",
                  "C[C@H]1C(=O)N(C(=O)NCc2ccccc2)[C@@H]1Oc1ccc(C(=O)C(C)(C)C)cc1",
                  "100000.0",
                  "inactive"
                ],
                [
                  "13",
                  "CHEMBL338720",
                  "CSc1nc(-c2ccc(-c3ccccc3)cc2)nn1C(=O)N(C)C",
                  "560.0",
                  "active"
                ],
                [
                  "14",
                  "CHEMBL339995",
                  "CSc1nc(/C=C/c2ccccc2)nn1C(=O)N(C)C",
                  "10.0",
                  "active"
                ],
                [
                  "15",
                  "CHEMBL335158",
                  "CCCCCCSc1nc(-c2ccc(Cl)cc2)nn1C(=O)N1CCCCC1",
                  "10.0",
                  "active"
                ],
                [
                  "16",
                  "CHEMBL131536",
                  "CSc1nc(-c2ccc(Cl)cc2)nn1C(=O)N(C)c1ccccc1",
                  "1400.0",
                  "intermediate"
                ],
                [
                  "17",
                  "CHEMBL106126",
                  "Cc1c(C(C)C)c(=O)on1C(=O)N1CCC[C@H](C)C1",
                  "17000.0",
                  "inactive"
                ],
                [
                  "18",
                  "CHEMBL334971",
                  "CCSc1nc(-c2ccc(OC)cc2)nn1C(=O)N(C)c1ccccc1",
                  "1100.0",
                  "intermediate"
                ],
                [
                  "19",
                  "CHEMBL336625",
                  "CCCCCCSc1nc(-c2ccc(C)cc2)nn1C(=O)N(C)c1ccccc1",
                  "50000.0",
                  "inactive"
                ],
                [
                  "20",
                  "CHEMBL130666",
                  "CSc1nc(-c2ccc(Cl)cc2)nn1C(=O)N1CCCCC1",
                  "26.0",
                  "active"
                ],
                [
                  "21",
                  "CHEMBL134061",
                  "O=C(N1CCOCC1)n1nc(-c2ccc(Cl)cc2)nc1SCC(F)(F)F",
                  "50000.0",
                  "inactive"
                ],
                [
                  "22",
                  "CHEMBL133388",
                  "CSc1nc(-c2ccc(C)cc2)nn1C(=O)N(C)C",
                  "800.0",
                  "active"
                ],
                [
                  "23",
                  "CHEMBL130645",
                  "CSc1nc(-c2ccc(Cl)cc2)nn1C(=O)N1CCOCC1",
                  "50000.0",
                  "inactive"
                ],
                [
                  "24",
                  "CHEMBL133580",
                  "CCCCCCSc1nc(-c2ccc(Cl)cc2)nn1C(=O)N(C)c1ccccc1",
                  "50000.0",
                  "inactive"
                ],
                [
                  "25",
                  "CHEMBL336524",
                  "CCSc1nc(-c2ccc(Cl)cc2)nn1C(=O)N(C)C",
                  "56.0",
                  "active"
                ],
                [
                  "26",
                  "CHEMBL336276",
                  "CCCCCCSc1nc(-c2ccc(C)cc2)nn1C(=O)N(C)C",
                  "200.0",
                  "active"
                ],
                [
                  "27",
                  "CHEMBL334395",
                  "CCCSc1nc(-c2ccc(Cl)cc2)nn1C(=O)N(C)C",
                  "300.0",
                  "active"
                ],
                [
                  "28",
                  "CHEMBL131320",
                  "Cc1ccc(-c2nc(SCC(F)(F)F)n(C(=O)N(C)C)n2)cc1",
                  "200.0",
                  "active"
                ],
                [
                  "29",
                  "CHEMBL339297",
                  "COc1nn(-c2ccc(NC(=O)c3ccc(C(C)(C)C)cc3)cc2)c(=O)o1",
                  "50000.0",
                  "inactive"
                ],
                [
                  "30",
                  "CHEMBL337714",
                  "CSc1nc(-c2ccc(C(F)(F)F)cc2)nn1C(=O)N(C)C",
                  "500.0",
                  "active"
                ],
                [
                  "31",
                  "CHEMBL122575",
                  "C[C@H]1C(=O)N(C(=O)NCc2ccccc2)[C@@H]1Oc1ccc(C(=O)O)cc1",
                  "100000.0",
                  "inactive"
                ],
                [
                  "32",
                  "CHEMBL130704",
                  "CSc1nc(-c2ccc(C)cc2)nn1C(=O)N1CCOCC1",
                  "50000.0",
                  "inactive"
                ],
                [
                  "33",
                  "CHEMBL46151",
                  "CCN(CC)CCS/C(=N\\O)C(=O)c1ccc(OC)cc1",
                  "260000.0",
                  "inactive"
                ],
                [
                  "34",
                  "CHEMBL54126",
                  "CN(C)C(=O)Oc1cccc([N+](C)(C)C)c1.[Br-]",
                  "22.0",
                  "active"
                ],
                [
                  "35",
                  "CHEMBL297316",
                  "C[N+](C)(C)CCS/C(=N\\O)C(=O)c1ccc(F)cc1.[Cl-]",
                  "1000000.0",
                  "inactive"
                ],
                [
                  "36",
                  "CHEMBL65667",
                  "CN1CC[C@@]2(C)c3cc(OC(=O)NCCCN4CCOCC4)ccc3N(C)[C@@H]12",
                  "3800.0",
                  "intermediate"
                ],
                [
                  "37",
                  "CHEMBL431519",
                  "CN1CC[C@@]2(C)c3cc(OC(=O)NCCCCCCCCCCN4CCOCC4)ccc3N(C)[C@@H]12",
                  "40.0",
                  "active"
                ],
                [
                  "38",
                  "CHEMBL296429",
                  "Cc1ccc(C(=O)/C(=N/O)SCC[N+](C)(C)C)cc1.[Cl-]",
                  "1000000.0",
                  "inactive"
                ],
                [
                  "39",
                  "CHEMBL154972",
                  "N#CC(C#N)=C1Nc2ccccc2N1CCNCc1ccc(CN2CCCCC2)o1",
                  "73.0",
                  "active"
                ],
                [
                  "40",
                  "CHEMBL152722",
                  "COc1cc(N)c(Cl)cc1C(=O)NCCNCc1ccc(CN(C)C)o1",
                  "3100.0",
                  "intermediate"
                ],
                [
                  "41",
                  "CHEMBL544022",
                  "CCN(CC)CCS/C(=N\\O)C(=O)c1ccc(Cl)cc1.Cl",
                  "520000.0",
                  "inactive"
                ],
                [
                  "42",
                  "CHEMBL349127",
                  "CN1CCN(Cc2ccc(CNCCN3CCNC3=C(C#N)C#N)o2)CC1",
                  "4500.0",
                  "intermediate"
                ],
                [
                  "43",
                  "CHEMBL156659",
                  "Oc1nc2ccccc2n1CCNCc1ccc(CN2CCCCC2)o1",
                  "1200.0",
                  "intermediate"
                ],
                [
                  "44",
                  "CHEMBL45118",
                  "CC[N+](C)(CC)CCS/C(=N\\O)C(=O)c1ccc(OC)cc1.[Cl-]",
                  "1000000.0",
                  "inactive"
                ],
                [
                  "45",
                  "CHEMBL542609",
                  "Cc1ccc(C(=O)/C(=N/O)SCCN(C)C)cc1.Cl",
                  "1000000.0",
                  "inactive"
                ],
                [
                  "46",
                  "CHEMBL155322",
                  "CC1CCCCN1Cc1ccc(CNCCN2CCNC2=C(C#N)C#N)o1",
                  "540.0",
                  "active"
                ],
                [
                  "47",
                  "CHEMBL154211",
                  "N#CC(C#N)=C1NCCN1CCNCc1ccc(CN2CCCCC2)o1",
                  "30.0",
                  "active"
                ],
                [
                  "48",
                  "CHEMBL1203537",
                  "CNC(NCCNCc1ccc(CN2CCCCC2)o1)=C(C#N)C#N.Cl",
                  "830.0",
                  "active"
                ],
                [
                  "49",
                  "CHEMBL86",
                  "CCN(CC)CCNC(=O)c1cc(Cl)c(N)cc1OC",
                  "20000.0",
                  "inactive"
                ]
              ],
              "shape": {
                "columns": 4,
                "rows": 6642
              }
            },
            "text/html": [
              "<div>\n",
              "<style scoped>\n",
              "    .dataframe tbody tr th:only-of-type {\n",
              "        vertical-align: middle;\n",
              "    }\n",
              "\n",
              "    .dataframe tbody tr th {\n",
              "        vertical-align: top;\n",
              "    }\n",
              "\n",
              "    .dataframe thead th {\n",
              "        text-align: right;\n",
              "    }\n",
              "</style>\n",
              "<table border=\"1\" class=\"dataframe\">\n",
              "  <thead>\n",
              "    <tr style=\"text-align: right;\">\n",
              "      <th></th>\n",
              "      <th>molecule_chembl_id</th>\n",
              "      <th>canonical_smiles</th>\n",
              "      <th>standard_value</th>\n",
              "      <th>class</th>\n",
              "    </tr>\n",
              "  </thead>\n",
              "  <tbody>\n",
              "    <tr>\n",
              "      <th>0</th>\n",
              "      <td>CHEMBL133897</td>\n",
              "      <td>CCOc1nn(-c2cccc(OCc3ccccc3)c2)c(=O)o1</td>\n",
              "      <td>750.0</td>\n",
              "      <td>active</td>\n",
              "    </tr>\n",
              "    <tr>\n",
              "      <th>1</th>\n",
              "      <td>CHEMBL336398</td>\n",
              "      <td>O=C(N1CCCCC1)n1nc(-c2ccc(Cl)cc2)nc1SCC1CC1</td>\n",
              "      <td>100.0</td>\n",
              "      <td>active</td>\n",
              "    </tr>\n",
              "    <tr>\n",
              "      <th>2</th>\n",
              "      <td>CHEMBL131588</td>\n",
              "      <td>CN(C(=O)n1nc(-c2ccc(Cl)cc2)nc1SCC(F)(F)F)c1ccccc1</td>\n",
              "      <td>50000.0</td>\n",
              "      <td>inactive</td>\n",
              "    </tr>\n",
              "    <tr>\n",
              "      <th>3</th>\n",
              "      <td>CHEMBL130628</td>\n",
              "      <td>O=C(N1CCCCC1)n1nc(-c2ccc(Cl)cc2)nc1SCC(F)(F)F</td>\n",
              "      <td>300.0</td>\n",
              "      <td>active</td>\n",
              "    </tr>\n",
              "    <tr>\n",
              "      <th>4</th>\n",
              "      <td>CHEMBL130478</td>\n",
              "      <td>CSc1nc(-c2ccc(OC(F)(F)F)cc2)nn1C(=O)N(C)C</td>\n",
              "      <td>800.0</td>\n",
              "      <td>active</td>\n",
              "    </tr>\n",
              "    <tr>\n",
              "      <th>...</th>\n",
              "      <td>...</td>\n",
              "      <td>...</td>\n",
              "      <td>...</td>\n",
              "      <td>...</td>\n",
              "    </tr>\n",
              "    <tr>\n",
              "      <th>6637</th>\n",
              "      <td>CHEMBL5398421</td>\n",
              "      <td>COc1cc(O)c2c(c1)C(=O)c1cc(O)c(O)cc1CCN2</td>\n",
              "      <td>46000.0</td>\n",
              "      <td>inactive</td>\n",
              "    </tr>\n",
              "    <tr>\n",
              "      <th>6638</th>\n",
              "      <td>CHEMBL11298</td>\n",
              "      <td>N[C@@H](CO)C(=O)O</td>\n",
              "      <td>38310.0</td>\n",
              "      <td>inactive</td>\n",
              "    </tr>\n",
              "    <tr>\n",
              "      <th>6639</th>\n",
              "      <td>CHEMBL5395312</td>\n",
              "      <td>CN1CCN(c2ccc(C(=O)Nc3cc(-c4nc5ccccc5[nH]4)n[nH...</td>\n",
              "      <td>1710.0</td>\n",
              "      <td>intermediate</td>\n",
              "    </tr>\n",
              "    <tr>\n",
              "      <th>6640</th>\n",
              "      <td>CHEMBL5399112</td>\n",
              "      <td>O=C(Nc1cc(-c2nc3ccccc3[nH]2)n[nH]1)c1ccc(N2CCN...</td>\n",
              "      <td>10000.0</td>\n",
              "      <td>inactive</td>\n",
              "    </tr>\n",
              "    <tr>\n",
              "      <th>6641</th>\n",
              "      <td>CHEMBL5402411</td>\n",
              "      <td>O=C(Nc1cc(-c2nc3ccccc3[nH]2)[nH]n1)c1ccc(N2CCO...</td>\n",
              "      <td>10000.0</td>\n",
              "      <td>inactive</td>\n",
              "    </tr>\n",
              "  </tbody>\n",
              "</table>\n",
              "<p>6642 rows × 4 columns</p>\n",
              "</div>"
            ],
            "text/plain": [
              "     molecule_chembl_id                                   canonical_smiles  \\\n",
              "0          CHEMBL133897              CCOc1nn(-c2cccc(OCc3ccccc3)c2)c(=O)o1   \n",
              "1          CHEMBL336398         O=C(N1CCCCC1)n1nc(-c2ccc(Cl)cc2)nc1SCC1CC1   \n",
              "2          CHEMBL131588  CN(C(=O)n1nc(-c2ccc(Cl)cc2)nc1SCC(F)(F)F)c1ccccc1   \n",
              "3          CHEMBL130628      O=C(N1CCCCC1)n1nc(-c2ccc(Cl)cc2)nc1SCC(F)(F)F   \n",
              "4          CHEMBL130478          CSc1nc(-c2ccc(OC(F)(F)F)cc2)nn1C(=O)N(C)C   \n",
              "...                 ...                                                ...   \n",
              "6637      CHEMBL5398421            COc1cc(O)c2c(c1)C(=O)c1cc(O)c(O)cc1CCN2   \n",
              "6638        CHEMBL11298                                  N[C@@H](CO)C(=O)O   \n",
              "6639      CHEMBL5395312  CN1CCN(c2ccc(C(=O)Nc3cc(-c4nc5ccccc5[nH]4)n[nH...   \n",
              "6640      CHEMBL5399112  O=C(Nc1cc(-c2nc3ccccc3[nH]2)n[nH]1)c1ccc(N2CCN...   \n",
              "6641      CHEMBL5402411  O=C(Nc1cc(-c2nc3ccccc3[nH]2)[nH]n1)c1ccc(N2CCO...   \n",
              "\n",
              "      standard_value         class  \n",
              "0              750.0        active  \n",
              "1              100.0        active  \n",
              "2            50000.0      inactive  \n",
              "3              300.0        active  \n",
              "4              800.0        active  \n",
              "...              ...           ...  \n",
              "6637         46000.0      inactive  \n",
              "6638         38310.0      inactive  \n",
              "6639          1710.0  intermediate  \n",
              "6640         10000.0      inactive  \n",
              "6641         10000.0      inactive  \n",
              "\n",
              "[6642 rows x 4 columns]"
            ]
          },
          "execution_count": 2,
          "metadata": {},
          "output_type": "execute_result"
        }
      ],
      "source": [
        "df = pd.read_csv('data/acetylcholinesterase_03_bioactivity_data_curated.csv')\n",
        "df"
      ]
    },
    {
      "cell_type": "code",
      "execution_count": 3,
      "metadata": {
        "colab": {},
        "colab_type": "code",
        "id": "7AMm19NW0bJR"
      },
      "outputs": [],
      "source": [
        "df_no_smiles = df.drop(columns='canonical_smiles')"
      ]
    },
    {
      "cell_type": "code",
      "execution_count": 4,
      "metadata": {
        "colab": {},
        "colab_type": "code",
        "id": "aymiQsfdr5sY"
      },
      "outputs": [],
      "source": [
        "smiles = []\n",
        "\n",
        "for i in df.canonical_smiles.tolist():\n",
        "  cpd = str(i).split('.')\n",
        "  cpd_longest = max(cpd, key = len)\n",
        "  smiles.append(cpd_longest)\n",
        "\n",
        "smiles = pd.Series(smiles, name = 'canonical_smiles')"
      ]
    },
    {
      "cell_type": "code",
      "execution_count": 5,
      "metadata": {
        "colab": {
          "base_uri": "https://localhost:8080/",
          "height": 419
        },
        "colab_type": "code",
        "id": "l7a8qW_U85ZK",
        "outputId": "9e073a51-20d4-489c-b1f7-6a44d140c22b"
      },
      "outputs": [
        {
          "data": {
            "application/vnd.microsoft.datawrangler.viewer.v0+json": {
              "columns": [
                {
                  "name": "index",
                  "rawType": "int64",
                  "type": "integer"
                },
                {
                  "name": "molecule_chembl_id",
                  "rawType": "object",
                  "type": "string"
                },
                {
                  "name": "standard_value",
                  "rawType": "float64",
                  "type": "float"
                },
                {
                  "name": "class",
                  "rawType": "object",
                  "type": "string"
                },
                {
                  "name": "canonical_smiles",
                  "rawType": "object",
                  "type": "string"
                }
              ],
              "conversionMethod": "pd.DataFrame",
              "ref": "c0a1e43b-e7fb-4e40-9555-6a5b47bd18d1",
              "rows": [
                [
                  "0",
                  "CHEMBL133897",
                  "750.0",
                  "active",
                  "CCOc1nn(-c2cccc(OCc3ccccc3)c2)c(=O)o1"
                ],
                [
                  "1",
                  "CHEMBL336398",
                  "100.0",
                  "active",
                  "O=C(N1CCCCC1)n1nc(-c2ccc(Cl)cc2)nc1SCC1CC1"
                ],
                [
                  "2",
                  "CHEMBL131588",
                  "50000.0",
                  "inactive",
                  "CN(C(=O)n1nc(-c2ccc(Cl)cc2)nc1SCC(F)(F)F)c1ccccc1"
                ],
                [
                  "3",
                  "CHEMBL130628",
                  "300.0",
                  "active",
                  "O=C(N1CCCCC1)n1nc(-c2ccc(Cl)cc2)nc1SCC(F)(F)F"
                ],
                [
                  "4",
                  "CHEMBL130478",
                  "800.0",
                  "active",
                  "CSc1nc(-c2ccc(OC(F)(F)F)cc2)nn1C(=O)N(C)C"
                ],
                [
                  "5",
                  "CHEMBL130112",
                  "2400.0",
                  "intermediate",
                  "CSc1nc(-c2ccc(C)cc2)nn1C(=O)N(C)c1ccccc1"
                ],
                [
                  "6",
                  "CHEMBL130098",
                  "100.0",
                  "active",
                  "CSc1nc(-c2ccc(Cl)cc2)nn1C(=O)N(C)C"
                ],
                [
                  "7",
                  "CHEMBL337486",
                  "50000.0",
                  "inactive",
                  "CCCCCCSc1nc(-c2ccc(Cl)cc2)nn1C(=O)N1CCOCC1"
                ],
                [
                  "8",
                  "CHEMBL336538",
                  "800.0",
                  "active",
                  "COc1ccc(-c2nc(SC)n(C(=O)N(C)C)n2)cc1"
                ],
                [
                  "9",
                  "CHEMBL131051",
                  "50000.0",
                  "inactive",
                  "CSc1nc(-c2ccc(OC(F)(F)F)cc2)nn1C(=O)N(C)c1ccccc1"
                ],
                [
                  "10",
                  "CHEMBL341437",
                  "50000.0",
                  "inactive",
                  "CCSc1nc(-c2ccc(OC)cc2)nn1C(=O)N1CCOCC1"
                ],
                [
                  "11",
                  "CHEMBL335033",
                  "50.0",
                  "active",
                  "CSc1nc(-c2ccc3ccccc3c2)nn1C(=O)N(C)C"
                ],
                [
                  "12",
                  "CHEMBL122983",
                  "100000.0",
                  "inactive",
                  "C[C@H]1C(=O)N(C(=O)NCc2ccccc2)[C@@H]1Oc1ccc(C(=O)C(C)(C)C)cc1"
                ],
                [
                  "13",
                  "CHEMBL338720",
                  "560.0",
                  "active",
                  "CSc1nc(-c2ccc(-c3ccccc3)cc2)nn1C(=O)N(C)C"
                ],
                [
                  "14",
                  "CHEMBL339995",
                  "10.0",
                  "active",
                  "CSc1nc(/C=C/c2ccccc2)nn1C(=O)N(C)C"
                ],
                [
                  "15",
                  "CHEMBL335158",
                  "10.0",
                  "active",
                  "CCCCCCSc1nc(-c2ccc(Cl)cc2)nn1C(=O)N1CCCCC1"
                ],
                [
                  "16",
                  "CHEMBL131536",
                  "1400.0",
                  "intermediate",
                  "CSc1nc(-c2ccc(Cl)cc2)nn1C(=O)N(C)c1ccccc1"
                ],
                [
                  "17",
                  "CHEMBL106126",
                  "17000.0",
                  "inactive",
                  "Cc1c(C(C)C)c(=O)on1C(=O)N1CCC[C@H](C)C1"
                ],
                [
                  "18",
                  "CHEMBL334971",
                  "1100.0",
                  "intermediate",
                  "CCSc1nc(-c2ccc(OC)cc2)nn1C(=O)N(C)c1ccccc1"
                ],
                [
                  "19",
                  "CHEMBL336625",
                  "50000.0",
                  "inactive",
                  "CCCCCCSc1nc(-c2ccc(C)cc2)nn1C(=O)N(C)c1ccccc1"
                ],
                [
                  "20",
                  "CHEMBL130666",
                  "26.0",
                  "active",
                  "CSc1nc(-c2ccc(Cl)cc2)nn1C(=O)N1CCCCC1"
                ],
                [
                  "21",
                  "CHEMBL134061",
                  "50000.0",
                  "inactive",
                  "O=C(N1CCOCC1)n1nc(-c2ccc(Cl)cc2)nc1SCC(F)(F)F"
                ],
                [
                  "22",
                  "CHEMBL133388",
                  "800.0",
                  "active",
                  "CSc1nc(-c2ccc(C)cc2)nn1C(=O)N(C)C"
                ],
                [
                  "23",
                  "CHEMBL130645",
                  "50000.0",
                  "inactive",
                  "CSc1nc(-c2ccc(Cl)cc2)nn1C(=O)N1CCOCC1"
                ],
                [
                  "24",
                  "CHEMBL133580",
                  "50000.0",
                  "inactive",
                  "CCCCCCSc1nc(-c2ccc(Cl)cc2)nn1C(=O)N(C)c1ccccc1"
                ],
                [
                  "25",
                  "CHEMBL336524",
                  "56.0",
                  "active",
                  "CCSc1nc(-c2ccc(Cl)cc2)nn1C(=O)N(C)C"
                ],
                [
                  "26",
                  "CHEMBL336276",
                  "200.0",
                  "active",
                  "CCCCCCSc1nc(-c2ccc(C)cc2)nn1C(=O)N(C)C"
                ],
                [
                  "27",
                  "CHEMBL334395",
                  "300.0",
                  "active",
                  "CCCSc1nc(-c2ccc(Cl)cc2)nn1C(=O)N(C)C"
                ],
                [
                  "28",
                  "CHEMBL131320",
                  "200.0",
                  "active",
                  "Cc1ccc(-c2nc(SCC(F)(F)F)n(C(=O)N(C)C)n2)cc1"
                ],
                [
                  "29",
                  "CHEMBL339297",
                  "50000.0",
                  "inactive",
                  "COc1nn(-c2ccc(NC(=O)c3ccc(C(C)(C)C)cc3)cc2)c(=O)o1"
                ],
                [
                  "30",
                  "CHEMBL337714",
                  "500.0",
                  "active",
                  "CSc1nc(-c2ccc(C(F)(F)F)cc2)nn1C(=O)N(C)C"
                ],
                [
                  "31",
                  "CHEMBL122575",
                  "100000.0",
                  "inactive",
                  "C[C@H]1C(=O)N(C(=O)NCc2ccccc2)[C@@H]1Oc1ccc(C(=O)O)cc1"
                ],
                [
                  "32",
                  "CHEMBL130704",
                  "50000.0",
                  "inactive",
                  "CSc1nc(-c2ccc(C)cc2)nn1C(=O)N1CCOCC1"
                ],
                [
                  "33",
                  "CHEMBL46151",
                  "260000.0",
                  "inactive",
                  "CCN(CC)CCS/C(=N\\O)C(=O)c1ccc(OC)cc1"
                ],
                [
                  "34",
                  "CHEMBL54126",
                  "22.0",
                  "active",
                  "CN(C)C(=O)Oc1cccc([N+](C)(C)C)c1"
                ],
                [
                  "35",
                  "CHEMBL297316",
                  "1000000.0",
                  "inactive",
                  "C[N+](C)(C)CCS/C(=N\\O)C(=O)c1ccc(F)cc1"
                ],
                [
                  "36",
                  "CHEMBL65667",
                  "3800.0",
                  "intermediate",
                  "CN1CC[C@@]2(C)c3cc(OC(=O)NCCCN4CCOCC4)ccc3N(C)[C@@H]12"
                ],
                [
                  "37",
                  "CHEMBL431519",
                  "40.0",
                  "active",
                  "CN1CC[C@@]2(C)c3cc(OC(=O)NCCCCCCCCCCN4CCOCC4)ccc3N(C)[C@@H]12"
                ],
                [
                  "38",
                  "CHEMBL296429",
                  "1000000.0",
                  "inactive",
                  "Cc1ccc(C(=O)/C(=N/O)SCC[N+](C)(C)C)cc1"
                ],
                [
                  "39",
                  "CHEMBL154972",
                  "73.0",
                  "active",
                  "N#CC(C#N)=C1Nc2ccccc2N1CCNCc1ccc(CN2CCCCC2)o1"
                ],
                [
                  "40",
                  "CHEMBL152722",
                  "3100.0",
                  "intermediate",
                  "COc1cc(N)c(Cl)cc1C(=O)NCCNCc1ccc(CN(C)C)o1"
                ],
                [
                  "41",
                  "CHEMBL544022",
                  "520000.0",
                  "inactive",
                  "CCN(CC)CCS/C(=N\\O)C(=O)c1ccc(Cl)cc1"
                ],
                [
                  "42",
                  "CHEMBL349127",
                  "4500.0",
                  "intermediate",
                  "CN1CCN(Cc2ccc(CNCCN3CCNC3=C(C#N)C#N)o2)CC1"
                ],
                [
                  "43",
                  "CHEMBL156659",
                  "1200.0",
                  "intermediate",
                  "Oc1nc2ccccc2n1CCNCc1ccc(CN2CCCCC2)o1"
                ],
                [
                  "44",
                  "CHEMBL45118",
                  "1000000.0",
                  "inactive",
                  "CC[N+](C)(CC)CCS/C(=N\\O)C(=O)c1ccc(OC)cc1"
                ],
                [
                  "45",
                  "CHEMBL542609",
                  "1000000.0",
                  "inactive",
                  "Cc1ccc(C(=O)/C(=N/O)SCCN(C)C)cc1"
                ],
                [
                  "46",
                  "CHEMBL155322",
                  "540.0",
                  "active",
                  "CC1CCCCN1Cc1ccc(CNCCN2CCNC2=C(C#N)C#N)o1"
                ],
                [
                  "47",
                  "CHEMBL154211",
                  "30.0",
                  "active",
                  "N#CC(C#N)=C1NCCN1CCNCc1ccc(CN2CCCCC2)o1"
                ],
                [
                  "48",
                  "CHEMBL1203537",
                  "830.0",
                  "active",
                  "CNC(NCCNCc1ccc(CN2CCCCC2)o1)=C(C#N)C#N"
                ],
                [
                  "49",
                  "CHEMBL86",
                  "20000.0",
                  "inactive",
                  "CCN(CC)CCNC(=O)c1cc(Cl)c(N)cc1OC"
                ]
              ],
              "shape": {
                "columns": 4,
                "rows": 6642
              }
            },
            "text/html": [
              "<div>\n",
              "<style scoped>\n",
              "    .dataframe tbody tr th:only-of-type {\n",
              "        vertical-align: middle;\n",
              "    }\n",
              "\n",
              "    .dataframe tbody tr th {\n",
              "        vertical-align: top;\n",
              "    }\n",
              "\n",
              "    .dataframe thead th {\n",
              "        text-align: right;\n",
              "    }\n",
              "</style>\n",
              "<table border=\"1\" class=\"dataframe\">\n",
              "  <thead>\n",
              "    <tr style=\"text-align: right;\">\n",
              "      <th></th>\n",
              "      <th>molecule_chembl_id</th>\n",
              "      <th>standard_value</th>\n",
              "      <th>class</th>\n",
              "      <th>canonical_smiles</th>\n",
              "    </tr>\n",
              "  </thead>\n",
              "  <tbody>\n",
              "    <tr>\n",
              "      <th>0</th>\n",
              "      <td>CHEMBL133897</td>\n",
              "      <td>750.0</td>\n",
              "      <td>active</td>\n",
              "      <td>CCOc1nn(-c2cccc(OCc3ccccc3)c2)c(=O)o1</td>\n",
              "    </tr>\n",
              "    <tr>\n",
              "      <th>1</th>\n",
              "      <td>CHEMBL336398</td>\n",
              "      <td>100.0</td>\n",
              "      <td>active</td>\n",
              "      <td>O=C(N1CCCCC1)n1nc(-c2ccc(Cl)cc2)nc1SCC1CC1</td>\n",
              "    </tr>\n",
              "    <tr>\n",
              "      <th>2</th>\n",
              "      <td>CHEMBL131588</td>\n",
              "      <td>50000.0</td>\n",
              "      <td>inactive</td>\n",
              "      <td>CN(C(=O)n1nc(-c2ccc(Cl)cc2)nc1SCC(F)(F)F)c1ccccc1</td>\n",
              "    </tr>\n",
              "    <tr>\n",
              "      <th>3</th>\n",
              "      <td>CHEMBL130628</td>\n",
              "      <td>300.0</td>\n",
              "      <td>active</td>\n",
              "      <td>O=C(N1CCCCC1)n1nc(-c2ccc(Cl)cc2)nc1SCC(F)(F)F</td>\n",
              "    </tr>\n",
              "    <tr>\n",
              "      <th>4</th>\n",
              "      <td>CHEMBL130478</td>\n",
              "      <td>800.0</td>\n",
              "      <td>active</td>\n",
              "      <td>CSc1nc(-c2ccc(OC(F)(F)F)cc2)nn1C(=O)N(C)C</td>\n",
              "    </tr>\n",
              "    <tr>\n",
              "      <th>...</th>\n",
              "      <td>...</td>\n",
              "      <td>...</td>\n",
              "      <td>...</td>\n",
              "      <td>...</td>\n",
              "    </tr>\n",
              "    <tr>\n",
              "      <th>6637</th>\n",
              "      <td>CHEMBL5398421</td>\n",
              "      <td>46000.0</td>\n",
              "      <td>inactive</td>\n",
              "      <td>COc1cc(O)c2c(c1)C(=O)c1cc(O)c(O)cc1CCN2</td>\n",
              "    </tr>\n",
              "    <tr>\n",
              "      <th>6638</th>\n",
              "      <td>CHEMBL11298</td>\n",
              "      <td>38310.0</td>\n",
              "      <td>inactive</td>\n",
              "      <td>N[C@@H](CO)C(=O)O</td>\n",
              "    </tr>\n",
              "    <tr>\n",
              "      <th>6639</th>\n",
              "      <td>CHEMBL5395312</td>\n",
              "      <td>1710.0</td>\n",
              "      <td>intermediate</td>\n",
              "      <td>CN1CCN(c2ccc(C(=O)Nc3cc(-c4nc5ccccc5[nH]4)n[nH...</td>\n",
              "    </tr>\n",
              "    <tr>\n",
              "      <th>6640</th>\n",
              "      <td>CHEMBL5399112</td>\n",
              "      <td>10000.0</td>\n",
              "      <td>inactive</td>\n",
              "      <td>O=C(Nc1cc(-c2nc3ccccc3[nH]2)n[nH]1)c1ccc(N2CCN...</td>\n",
              "    </tr>\n",
              "    <tr>\n",
              "      <th>6641</th>\n",
              "      <td>CHEMBL5402411</td>\n",
              "      <td>10000.0</td>\n",
              "      <td>inactive</td>\n",
              "      <td>O=C(Nc1cc(-c2nc3ccccc3[nH]2)[nH]n1)c1ccc(N2CCO...</td>\n",
              "    </tr>\n",
              "  </tbody>\n",
              "</table>\n",
              "<p>6642 rows × 4 columns</p>\n",
              "</div>"
            ],
            "text/plain": [
              "     molecule_chembl_id  standard_value         class  \\\n",
              "0          CHEMBL133897           750.0        active   \n",
              "1          CHEMBL336398           100.0        active   \n",
              "2          CHEMBL131588         50000.0      inactive   \n",
              "3          CHEMBL130628           300.0        active   \n",
              "4          CHEMBL130478           800.0        active   \n",
              "...                 ...             ...           ...   \n",
              "6637      CHEMBL5398421         46000.0      inactive   \n",
              "6638        CHEMBL11298         38310.0      inactive   \n",
              "6639      CHEMBL5395312          1710.0  intermediate   \n",
              "6640      CHEMBL5399112         10000.0      inactive   \n",
              "6641      CHEMBL5402411         10000.0      inactive   \n",
              "\n",
              "                                       canonical_smiles  \n",
              "0                 CCOc1nn(-c2cccc(OCc3ccccc3)c2)c(=O)o1  \n",
              "1            O=C(N1CCCCC1)n1nc(-c2ccc(Cl)cc2)nc1SCC1CC1  \n",
              "2     CN(C(=O)n1nc(-c2ccc(Cl)cc2)nc1SCC(F)(F)F)c1ccccc1  \n",
              "3         O=C(N1CCCCC1)n1nc(-c2ccc(Cl)cc2)nc1SCC(F)(F)F  \n",
              "4             CSc1nc(-c2ccc(OC(F)(F)F)cc2)nn1C(=O)N(C)C  \n",
              "...                                                 ...  \n",
              "6637            COc1cc(O)c2c(c1)C(=O)c1cc(O)c(O)cc1CCN2  \n",
              "6638                                  N[C@@H](CO)C(=O)O  \n",
              "6639  CN1CCN(c2ccc(C(=O)Nc3cc(-c4nc5ccccc5[nH]4)n[nH...  \n",
              "6640  O=C(Nc1cc(-c2nc3ccccc3[nH]2)n[nH]1)c1ccc(N2CCN...  \n",
              "6641  O=C(Nc1cc(-c2nc3ccccc3[nH]2)[nH]n1)c1ccc(N2CCO...  \n",
              "\n",
              "[6642 rows x 4 columns]"
            ]
          },
          "execution_count": 5,
          "metadata": {},
          "output_type": "execute_result"
        }
      ],
      "source": [
        "df_clean_smiles = pd.concat([df_no_smiles,smiles], axis=1)\n",
        "df_clean_smiles"
      ]
    },
    {
      "cell_type": "markdown",
      "metadata": {
        "colab_type": "text",
        "id": "YzN_S4Quro5S"
      },
      "source": [
        "## **Calculate Lipinski descriptors**\n",
        "Christopher Lipinski, a scientist at Pfizer, came up with a set of rule-of-thumb for evaluating the **druglikeness** of compounds. Such druglikeness is based on the Absorption, Distribution, Metabolism and Excretion (ADME) that is also known as the pharmacokinetic profile. Lipinski analyzed all orally active FDA-approved drugs in the formulation of what is to be known as the **Rule-of-Five** or **Lipinski's Rule**.\n",
        "\n",
        "The Lipinski's Rule stated the following:\n",
        "* Molecular weight < 500 Dalton\n",
        "* Octanol-water partition coefficient (LogP) < 5\n",
        "* Hydrogen bond donors < 5\n",
        "* Hydrogen bond acceptors < 10 "
      ]
    },
    {
      "cell_type": "markdown",
      "metadata": {
        "colab_type": "text",
        "id": "9qn_eQcnxY7C"
      },
      "source": [
        "### **Import libraries**"
      ]
    },
    {
      "cell_type": "code",
      "execution_count": 6,
      "metadata": {
        "colab": {},
        "colab_type": "code",
        "id": "CgBjIdT-rnRU"
      },
      "outputs": [],
      "source": [
        "import numpy as np\n",
        "from rdkit import Chem\n",
        "from rdkit.Chem import Descriptors, Lipinski"
      ]
    },
    {
      "cell_type": "markdown",
      "metadata": {
        "colab_type": "text",
        "id": "JsgTV-ByxdMa"
      },
      "source": [
        "### **Calculate descriptors**"
      ]
    },
    {
      "cell_type": "code",
      "execution_count": 10,
      "metadata": {
        "colab": {},
        "colab_type": "code",
        "id": "bCXEY7a9ugO_"
      },
      "outputs": [],
      "source": [
        "def lipinski(smiles_list, verbose=False):\n",
        "    \"\"\"\n",
        "    Calculate Lipinski descriptors (MW, LogP, H donors, H acceptors)\n",
        "    for a list of SMILES strings.\n",
        "\n",
        "    Parameters:\n",
        "    - smiles_list: iterable of SMILES strings\n",
        "    - verbose: bool, if True prints warnings and descriptor values\n",
        "\n",
        "    Returns:\n",
        "    - pandas.DataFrame with columns [\"MW\", \"LogP\", \"NumHDonors\", \"NumHAcceptors\"]\n",
        "    \"\"\"\n",
        "    data = []\n",
        "    for smi in smiles_list:\n",
        "        mol = Chem.MolFromSmiles(smi)\n",
        "\n",
        "        # Compute descriptors\n",
        "        mw = Descriptors.MolWt(mol)\n",
        "        logp = Descriptors.MolLogP(mol)\n",
        "        donors = Lipinski.NumHDonors(mol)\n",
        "        acceptors = Lipinski.NumHAcceptors(mol)\n",
        "\n",
        "        data.append([mw, logp, donors, acceptors])\n",
        "\n",
        "    # Build DataFrame\n",
        "    columns = [\"MW\", \"LogP\", \"NumHDonors\", \"NumHAcceptors\"]\n",
        "    descriptors = pd.DataFrame(data, columns=columns)\n",
        "    return descriptors"
      ]
    },
    {
      "cell_type": "code",
      "execution_count": 11,
      "metadata": {
        "colab": {
          "base_uri": "https://localhost:8080/",
          "height": 419
        },
        "colab_type": "code",
        "id": "ThFIFw8IukMY",
        "outputId": "574c050c-44f1-43be-bf6c-bf973d8d0675"
      },
      "outputs": [
        {
          "data": {
            "application/vnd.microsoft.datawrangler.viewer.v0+json": {
              "columns": [
                {
                  "name": "index",
                  "rawType": "int64",
                  "type": "integer"
                },
                {
                  "name": "MW",
                  "rawType": "float64",
                  "type": "float"
                },
                {
                  "name": "LogP",
                  "rawType": "float64",
                  "type": "float"
                },
                {
                  "name": "NumHDonors",
                  "rawType": "int64",
                  "type": "integer"
                },
                {
                  "name": "NumHAcceptors",
                  "rawType": "int64",
                  "type": "integer"
                }
              ],
              "conversionMethod": "pd.DataFrame",
              "ref": "0237c614-c3be-4072-b238-219cc83e84ee",
              "rows": [
                [
                  "0",
                  "312.32500000000005",
                  "2.8032000000000004",
                  "0",
                  "6"
                ],
                [
                  "1",
                  "376.9130000000002",
                  "4.554600000000004",
                  "0",
                  "5"
                ],
                [
                  "2",
                  "426.8510000000001",
                  "5.357400000000003",
                  "0",
                  "5"
                ],
                [
                  "3",
                  "404.8450000000001",
                  "4.706900000000003",
                  "0",
                  "5"
                ],
                [
                  "4",
                  "346.33400000000006",
                  "3.095300000000001",
                  "0",
                  "6"
                ],
                [
                  "5",
                  "338.43600000000004",
                  "4.079920000000002",
                  "0",
                  "5"
                ],
                [
                  "6",
                  "296.783",
                  "2.850100000000001",
                  "0",
                  "5"
                ],
                [
                  "7",
                  "408.95500000000027",
                  "4.571200000000005",
                  "0",
                  "6"
                ],
                [
                  "8",
                  "292.364",
                  "2.2053000000000003",
                  "0",
                  "6"
                ],
                [
                  "9",
                  "408.4050000000001",
                  "4.670100000000003",
                  "0",
                  "6"
                ],
                [
                  "10",
                  "348.4280000000002",
                  "2.3659999999999997",
                  "0",
                  "7"
                ],
                [
                  "11",
                  "312.3980000000001",
                  "3.3499000000000017",
                  "0",
                  "5"
                ],
                [
                  "12",
                  "394.4710000000002",
                  "4.0084000000000035",
                  "1",
                  "4"
                ],
                [
                  "13",
                  "338.4360000000001",
                  "3.8637000000000032",
                  "0",
                  "5"
                ],
                [
                  "14",
                  "288.37600000000003",
                  "2.700100000000001",
                  "0",
                  "5"
                ],
                [
                  "15",
                  "406.9830000000003",
                  "5.724900000000006",
                  "0",
                  "5"
                ],
                [
                  "16",
                  "358.85400000000004",
                  "4.424900000000004",
                  "0",
                  "5"
                ],
                [
                  "17",
                  "266.34099999999995",
                  "2.5731200000000003",
                  "0",
                  "4"
                ],
                [
                  "18",
                  "368.4620000000001",
                  "4.170200000000003",
                  "0",
                  "6"
                ],
                [
                  "19",
                  "408.57100000000014",
                  "6.0304200000000066",
                  "0",
                  "5"
                ],
                [
                  "20",
                  "336.8480000000002",
                  "3.7744000000000026",
                  "0",
                  "5"
                ],
                [
                  "21",
                  "406.81700000000006",
                  "3.553200000000002",
                  "0",
                  "6"
                ],
                [
                  "22",
                  "276.365",
                  "2.5051200000000007",
                  "0",
                  "5"
                ],
                [
                  "23",
                  "338.82000000000016",
                  "2.620700000000001",
                  "0",
                  "6"
                ],
                [
                  "24",
                  "428.98900000000015",
                  "6.375400000000006",
                  "0",
                  "5"
                ],
                [
                  "25",
                  "310.81000000000006",
                  "3.2402000000000015",
                  "0",
                  "5"
                ],
                [
                  "26",
                  "346.5000000000001",
                  "4.455620000000004",
                  "0",
                  "5"
                ],
                [
                  "27",
                  "324.8370000000001",
                  "3.6303000000000027",
                  "0",
                  "5"
                ],
                [
                  "28",
                  "344.362",
                  "3.4376200000000017",
                  "0",
                  "5"
                ],
                [
                  "29",
                  "367.4050000000001",
                  "3.3839000000000015",
                  "1",
                  "6"
                ],
                [
                  "30",
                  "330.33500000000004",
                  "3.2155000000000022",
                  "0",
                  "5"
                ],
                [
                  "31",
                  "354.3620000000001",
                  "2.4778000000000002",
                  "2",
                  "4"
                ],
                [
                  "32",
                  "318.40200000000016",
                  "2.2757199999999997",
                  "0",
                  "6"
                ],
                [
                  "33",
                  "310.41900000000004",
                  "2.7406000000000015",
                  "1",
                  "6"
                ],
                [
                  "34",
                  "223.29599999999996",
                  "1.9437",
                  "0",
                  "2"
                ],
                [
                  "35",
                  "285.36400000000003",
                  "2.2355",
                  "1",
                  "4"
                ],
                [
                  "36",
                  "388.51200000000017",
                  "1.8663999999999992",
                  "1",
                  "6"
                ],
                [
                  "37",
                  "486.7010000000004",
                  "4.597100000000005",
                  "1",
                  "6"
                ],
                [
                  "38",
                  "281.401",
                  "2.404820000000001",
                  "1",
                  "4"
                ],
                [
                  "39",
                  "402.5020000000003",
                  "3.5459600000000027",
                  "2",
                  "7"
                ],
                [
                  "40",
                  "380.8760000000002",
                  "2.1050000000000004",
                  "3",
                  "6"
                ],
                [
                  "41",
                  "314.838",
                  "3.3854000000000015",
                  "1",
                  "5"
                ],
                [
                  "42",
                  "369.4730000000001",
                  "0.2805600000000022",
                  "2",
                  "8"
                ],
                [
                  "43",
                  "354.4540000000002",
                  "3.1106000000000016",
                  "2",
                  "6"
                ],
                [
                  "44",
                  "325.45400000000006",
                  "2.885200000000001",
                  "1",
                  "5"
                ],
                [
                  "45",
                  "266.366",
                  "2.2602200000000003",
                  "1",
                  "5"
                ],
                [
                  "46",
                  "368.4850000000001",
                  "1.90756",
                  "2",
                  "7"
                ],
                [
                  "47",
                  "354.4580000000002",
                  "1.519059999999999",
                  "2",
                  "7"
                ],
                [
                  "48",
                  "342.4470000000001",
                  "1.4228600000000002",
                  "3",
                  "7"
                ],
                [
                  "49",
                  "299.8020000000001",
                  "2.0023999999999997",
                  "2",
                  "4"
                ]
              ],
              "shape": {
                "columns": 4,
                "rows": 6642
              }
            },
            "text/html": [
              "<div>\n",
              "<style scoped>\n",
              "    .dataframe tbody tr th:only-of-type {\n",
              "        vertical-align: middle;\n",
              "    }\n",
              "\n",
              "    .dataframe tbody tr th {\n",
              "        vertical-align: top;\n",
              "    }\n",
              "\n",
              "    .dataframe thead th {\n",
              "        text-align: right;\n",
              "    }\n",
              "</style>\n",
              "<table border=\"1\" class=\"dataframe\">\n",
              "  <thead>\n",
              "    <tr style=\"text-align: right;\">\n",
              "      <th></th>\n",
              "      <th>MW</th>\n",
              "      <th>LogP</th>\n",
              "      <th>NumHDonors</th>\n",
              "      <th>NumHAcceptors</th>\n",
              "    </tr>\n",
              "  </thead>\n",
              "  <tbody>\n",
              "    <tr>\n",
              "      <th>0</th>\n",
              "      <td>312.325</td>\n",
              "      <td>2.8032</td>\n",
              "      <td>0</td>\n",
              "      <td>6</td>\n",
              "    </tr>\n",
              "    <tr>\n",
              "      <th>1</th>\n",
              "      <td>376.913</td>\n",
              "      <td>4.5546</td>\n",
              "      <td>0</td>\n",
              "      <td>5</td>\n",
              "    </tr>\n",
              "    <tr>\n",
              "      <th>2</th>\n",
              "      <td>426.851</td>\n",
              "      <td>5.3574</td>\n",
              "      <td>0</td>\n",
              "      <td>5</td>\n",
              "    </tr>\n",
              "    <tr>\n",
              "      <th>3</th>\n",
              "      <td>404.845</td>\n",
              "      <td>4.7069</td>\n",
              "      <td>0</td>\n",
              "      <td>5</td>\n",
              "    </tr>\n",
              "    <tr>\n",
              "      <th>4</th>\n",
              "      <td>346.334</td>\n",
              "      <td>3.0953</td>\n",
              "      <td>0</td>\n",
              "      <td>6</td>\n",
              "    </tr>\n",
              "    <tr>\n",
              "      <th>...</th>\n",
              "      <td>...</td>\n",
              "      <td>...</td>\n",
              "      <td>...</td>\n",
              "      <td>...</td>\n",
              "    </tr>\n",
              "    <tr>\n",
              "      <th>6637</th>\n",
              "      <td>301.298</td>\n",
              "      <td>2.0110</td>\n",
              "      <td>4</td>\n",
              "      <td>6</td>\n",
              "    </tr>\n",
              "    <tr>\n",
              "      <th>6638</th>\n",
              "      <td>105.093</td>\n",
              "      <td>-1.6094</td>\n",
              "      <td>3</td>\n",
              "      <td>3</td>\n",
              "    </tr>\n",
              "    <tr>\n",
              "      <th>6639</th>\n",
              "      <td>401.474</td>\n",
              "      <td>2.9571</td>\n",
              "      <td>3</td>\n",
              "      <td>5</td>\n",
              "    </tr>\n",
              "    <tr>\n",
              "      <th>6640</th>\n",
              "      <td>387.447</td>\n",
              "      <td>2.6149</td>\n",
              "      <td>4</td>\n",
              "      <td>5</td>\n",
              "    </tr>\n",
              "    <tr>\n",
              "      <th>6641</th>\n",
              "      <td>388.431</td>\n",
              "      <td>3.0419</td>\n",
              "      <td>3</td>\n",
              "      <td>5</td>\n",
              "    </tr>\n",
              "  </tbody>\n",
              "</table>\n",
              "<p>6642 rows × 4 columns</p>\n",
              "</div>"
            ],
            "text/plain": [
              "           MW    LogP  NumHDonors  NumHAcceptors\n",
              "0     312.325  2.8032           0              6\n",
              "1     376.913  4.5546           0              5\n",
              "2     426.851  5.3574           0              5\n",
              "3     404.845  4.7069           0              5\n",
              "4     346.334  3.0953           0              6\n",
              "...       ...     ...         ...            ...\n",
              "6637  301.298  2.0110           4              6\n",
              "6638  105.093 -1.6094           3              3\n",
              "6639  401.474  2.9571           3              5\n",
              "6640  387.447  2.6149           4              5\n",
              "6641  388.431  3.0419           3              5\n",
              "\n",
              "[6642 rows x 4 columns]"
            ]
          },
          "execution_count": 11,
          "metadata": {},
          "output_type": "execute_result"
        }
      ],
      "source": [
        "df_lipinski = lipinski(df_clean_smiles.canonical_smiles)\n",
        "df_lipinski"
      ]
    },
    {
      "cell_type": "markdown",
      "metadata": {
        "colab_type": "text",
        "id": "gUMlPfFrxicj"
      },
      "source": [
        "### **Combine DataFrames**\n"
      ]
    },
    {
      "cell_type": "code",
      "execution_count": 12,
      "metadata": {
        "colab": {},
        "colab_type": "code",
        "id": "L9nUZC0Ww3gp"
      },
      "outputs": [],
      "source": [
        "df_combined = pd.concat([df,df_lipinski], axis=1)"
      ]
    },
    {
      "cell_type": "code",
      "execution_count": 13,
      "metadata": {
        "colab": {
          "base_uri": "https://localhost:8080/",
          "height": 419
        },
        "colab_type": "code",
        "id": "FRBfBP3QxFJp",
        "outputId": "33528544-8108-4303-a9f2-977c0f6aef91"
      },
      "outputs": [
        {
          "data": {
            "application/vnd.microsoft.datawrangler.viewer.v0+json": {
              "columns": [
                {
                  "name": "index",
                  "rawType": "int64",
                  "type": "integer"
                },
                {
                  "name": "molecule_chembl_id",
                  "rawType": "object",
                  "type": "string"
                },
                {
                  "name": "canonical_smiles",
                  "rawType": "object",
                  "type": "string"
                },
                {
                  "name": "standard_value",
                  "rawType": "float64",
                  "type": "float"
                },
                {
                  "name": "class",
                  "rawType": "object",
                  "type": "string"
                },
                {
                  "name": "MW",
                  "rawType": "float64",
                  "type": "float"
                },
                {
                  "name": "LogP",
                  "rawType": "float64",
                  "type": "float"
                },
                {
                  "name": "NumHDonors",
                  "rawType": "int64",
                  "type": "integer"
                },
                {
                  "name": "NumHAcceptors",
                  "rawType": "int64",
                  "type": "integer"
                }
              ],
              "conversionMethod": "pd.DataFrame",
              "ref": "b8ae985c-402a-4284-a5f2-0fe52e0d2b12",
              "rows": [
                [
                  "0",
                  "CHEMBL133897",
                  "CCOc1nn(-c2cccc(OCc3ccccc3)c2)c(=O)o1",
                  "750.0",
                  "active",
                  "312.32500000000005",
                  "2.8032000000000004",
                  "0",
                  "6"
                ],
                [
                  "1",
                  "CHEMBL336398",
                  "O=C(N1CCCCC1)n1nc(-c2ccc(Cl)cc2)nc1SCC1CC1",
                  "100.0",
                  "active",
                  "376.9130000000002",
                  "4.554600000000004",
                  "0",
                  "5"
                ],
                [
                  "2",
                  "CHEMBL131588",
                  "CN(C(=O)n1nc(-c2ccc(Cl)cc2)nc1SCC(F)(F)F)c1ccccc1",
                  "50000.0",
                  "inactive",
                  "426.8510000000001",
                  "5.357400000000003",
                  "0",
                  "5"
                ],
                [
                  "3",
                  "CHEMBL130628",
                  "O=C(N1CCCCC1)n1nc(-c2ccc(Cl)cc2)nc1SCC(F)(F)F",
                  "300.0",
                  "active",
                  "404.8450000000001",
                  "4.706900000000003",
                  "0",
                  "5"
                ],
                [
                  "4",
                  "CHEMBL130478",
                  "CSc1nc(-c2ccc(OC(F)(F)F)cc2)nn1C(=O)N(C)C",
                  "800.0",
                  "active",
                  "346.33400000000006",
                  "3.095300000000001",
                  "0",
                  "6"
                ],
                [
                  "5",
                  "CHEMBL130112",
                  "CSc1nc(-c2ccc(C)cc2)nn1C(=O)N(C)c1ccccc1",
                  "2400.0",
                  "intermediate",
                  "338.43600000000004",
                  "4.079920000000002",
                  "0",
                  "5"
                ],
                [
                  "6",
                  "CHEMBL130098",
                  "CSc1nc(-c2ccc(Cl)cc2)nn1C(=O)N(C)C",
                  "100.0",
                  "active",
                  "296.783",
                  "2.850100000000001",
                  "0",
                  "5"
                ],
                [
                  "7",
                  "CHEMBL337486",
                  "CCCCCCSc1nc(-c2ccc(Cl)cc2)nn1C(=O)N1CCOCC1",
                  "50000.0",
                  "inactive",
                  "408.95500000000027",
                  "4.571200000000005",
                  "0",
                  "6"
                ],
                [
                  "8",
                  "CHEMBL336538",
                  "COc1ccc(-c2nc(SC)n(C(=O)N(C)C)n2)cc1",
                  "800.0",
                  "active",
                  "292.364",
                  "2.2053000000000003",
                  "0",
                  "6"
                ],
                [
                  "9",
                  "CHEMBL131051",
                  "CSc1nc(-c2ccc(OC(F)(F)F)cc2)nn1C(=O)N(C)c1ccccc1",
                  "50000.0",
                  "inactive",
                  "408.4050000000001",
                  "4.670100000000003",
                  "0",
                  "6"
                ],
                [
                  "10",
                  "CHEMBL341437",
                  "CCSc1nc(-c2ccc(OC)cc2)nn1C(=O)N1CCOCC1",
                  "50000.0",
                  "inactive",
                  "348.4280000000002",
                  "2.3659999999999997",
                  "0",
                  "7"
                ],
                [
                  "11",
                  "CHEMBL335033",
                  "CSc1nc(-c2ccc3ccccc3c2)nn1C(=O)N(C)C",
                  "50.0",
                  "active",
                  "312.3980000000001",
                  "3.3499000000000017",
                  "0",
                  "5"
                ],
                [
                  "12",
                  "CHEMBL122983",
                  "C[C@H]1C(=O)N(C(=O)NCc2ccccc2)[C@@H]1Oc1ccc(C(=O)C(C)(C)C)cc1",
                  "100000.0",
                  "inactive",
                  "394.4710000000002",
                  "4.0084000000000035",
                  "1",
                  "4"
                ],
                [
                  "13",
                  "CHEMBL338720",
                  "CSc1nc(-c2ccc(-c3ccccc3)cc2)nn1C(=O)N(C)C",
                  "560.0",
                  "active",
                  "338.4360000000001",
                  "3.8637000000000032",
                  "0",
                  "5"
                ],
                [
                  "14",
                  "CHEMBL339995",
                  "CSc1nc(/C=C/c2ccccc2)nn1C(=O)N(C)C",
                  "10.0",
                  "active",
                  "288.37600000000003",
                  "2.700100000000001",
                  "0",
                  "5"
                ],
                [
                  "15",
                  "CHEMBL335158",
                  "CCCCCCSc1nc(-c2ccc(Cl)cc2)nn1C(=O)N1CCCCC1",
                  "10.0",
                  "active",
                  "406.9830000000003",
                  "5.724900000000006",
                  "0",
                  "5"
                ],
                [
                  "16",
                  "CHEMBL131536",
                  "CSc1nc(-c2ccc(Cl)cc2)nn1C(=O)N(C)c1ccccc1",
                  "1400.0",
                  "intermediate",
                  "358.85400000000004",
                  "4.424900000000004",
                  "0",
                  "5"
                ],
                [
                  "17",
                  "CHEMBL106126",
                  "Cc1c(C(C)C)c(=O)on1C(=O)N1CCC[C@H](C)C1",
                  "17000.0",
                  "inactive",
                  "266.34099999999995",
                  "2.5731200000000003",
                  "0",
                  "4"
                ],
                [
                  "18",
                  "CHEMBL334971",
                  "CCSc1nc(-c2ccc(OC)cc2)nn1C(=O)N(C)c1ccccc1",
                  "1100.0",
                  "intermediate",
                  "368.4620000000001",
                  "4.170200000000003",
                  "0",
                  "6"
                ],
                [
                  "19",
                  "CHEMBL336625",
                  "CCCCCCSc1nc(-c2ccc(C)cc2)nn1C(=O)N(C)c1ccccc1",
                  "50000.0",
                  "inactive",
                  "408.57100000000014",
                  "6.0304200000000066",
                  "0",
                  "5"
                ],
                [
                  "20",
                  "CHEMBL130666",
                  "CSc1nc(-c2ccc(Cl)cc2)nn1C(=O)N1CCCCC1",
                  "26.0",
                  "active",
                  "336.8480000000002",
                  "3.7744000000000026",
                  "0",
                  "5"
                ],
                [
                  "21",
                  "CHEMBL134061",
                  "O=C(N1CCOCC1)n1nc(-c2ccc(Cl)cc2)nc1SCC(F)(F)F",
                  "50000.0",
                  "inactive",
                  "406.81700000000006",
                  "3.553200000000002",
                  "0",
                  "6"
                ],
                [
                  "22",
                  "CHEMBL133388",
                  "CSc1nc(-c2ccc(C)cc2)nn1C(=O)N(C)C",
                  "800.0",
                  "active",
                  "276.365",
                  "2.5051200000000007",
                  "0",
                  "5"
                ],
                [
                  "23",
                  "CHEMBL130645",
                  "CSc1nc(-c2ccc(Cl)cc2)nn1C(=O)N1CCOCC1",
                  "50000.0",
                  "inactive",
                  "338.82000000000016",
                  "2.620700000000001",
                  "0",
                  "6"
                ],
                [
                  "24",
                  "CHEMBL133580",
                  "CCCCCCSc1nc(-c2ccc(Cl)cc2)nn1C(=O)N(C)c1ccccc1",
                  "50000.0",
                  "inactive",
                  "428.98900000000015",
                  "6.375400000000006",
                  "0",
                  "5"
                ],
                [
                  "25",
                  "CHEMBL336524",
                  "CCSc1nc(-c2ccc(Cl)cc2)nn1C(=O)N(C)C",
                  "56.0",
                  "active",
                  "310.81000000000006",
                  "3.2402000000000015",
                  "0",
                  "5"
                ],
                [
                  "26",
                  "CHEMBL336276",
                  "CCCCCCSc1nc(-c2ccc(C)cc2)nn1C(=O)N(C)C",
                  "200.0",
                  "active",
                  "346.5000000000001",
                  "4.455620000000004",
                  "0",
                  "5"
                ],
                [
                  "27",
                  "CHEMBL334395",
                  "CCCSc1nc(-c2ccc(Cl)cc2)nn1C(=O)N(C)C",
                  "300.0",
                  "active",
                  "324.8370000000001",
                  "3.6303000000000027",
                  "0",
                  "5"
                ],
                [
                  "28",
                  "CHEMBL131320",
                  "Cc1ccc(-c2nc(SCC(F)(F)F)n(C(=O)N(C)C)n2)cc1",
                  "200.0",
                  "active",
                  "344.362",
                  "3.4376200000000017",
                  "0",
                  "5"
                ],
                [
                  "29",
                  "CHEMBL339297",
                  "COc1nn(-c2ccc(NC(=O)c3ccc(C(C)(C)C)cc3)cc2)c(=O)o1",
                  "50000.0",
                  "inactive",
                  "367.4050000000001",
                  "3.3839000000000015",
                  "1",
                  "6"
                ],
                [
                  "30",
                  "CHEMBL337714",
                  "CSc1nc(-c2ccc(C(F)(F)F)cc2)nn1C(=O)N(C)C",
                  "500.0",
                  "active",
                  "330.33500000000004",
                  "3.2155000000000022",
                  "0",
                  "5"
                ],
                [
                  "31",
                  "CHEMBL122575",
                  "C[C@H]1C(=O)N(C(=O)NCc2ccccc2)[C@@H]1Oc1ccc(C(=O)O)cc1",
                  "100000.0",
                  "inactive",
                  "354.3620000000001",
                  "2.4778000000000002",
                  "2",
                  "4"
                ],
                [
                  "32",
                  "CHEMBL130704",
                  "CSc1nc(-c2ccc(C)cc2)nn1C(=O)N1CCOCC1",
                  "50000.0",
                  "inactive",
                  "318.40200000000016",
                  "2.2757199999999997",
                  "0",
                  "6"
                ],
                [
                  "33",
                  "CHEMBL46151",
                  "CCN(CC)CCS/C(=N\\O)C(=O)c1ccc(OC)cc1",
                  "260000.0",
                  "inactive",
                  "310.41900000000004",
                  "2.7406000000000015",
                  "1",
                  "6"
                ],
                [
                  "34",
                  "CHEMBL54126",
                  "CN(C)C(=O)Oc1cccc([N+](C)(C)C)c1.[Br-]",
                  "22.0",
                  "active",
                  "223.29599999999996",
                  "1.9437",
                  "0",
                  "2"
                ],
                [
                  "35",
                  "CHEMBL297316",
                  "C[N+](C)(C)CCS/C(=N\\O)C(=O)c1ccc(F)cc1.[Cl-]",
                  "1000000.0",
                  "inactive",
                  "285.36400000000003",
                  "2.2355",
                  "1",
                  "4"
                ],
                [
                  "36",
                  "CHEMBL65667",
                  "CN1CC[C@@]2(C)c3cc(OC(=O)NCCCN4CCOCC4)ccc3N(C)[C@@H]12",
                  "3800.0",
                  "intermediate",
                  "388.51200000000017",
                  "1.8663999999999992",
                  "1",
                  "6"
                ],
                [
                  "37",
                  "CHEMBL431519",
                  "CN1CC[C@@]2(C)c3cc(OC(=O)NCCCCCCCCCCN4CCOCC4)ccc3N(C)[C@@H]12",
                  "40.0",
                  "active",
                  "486.7010000000004",
                  "4.597100000000005",
                  "1",
                  "6"
                ],
                [
                  "38",
                  "CHEMBL296429",
                  "Cc1ccc(C(=O)/C(=N/O)SCC[N+](C)(C)C)cc1.[Cl-]",
                  "1000000.0",
                  "inactive",
                  "281.401",
                  "2.404820000000001",
                  "1",
                  "4"
                ],
                [
                  "39",
                  "CHEMBL154972",
                  "N#CC(C#N)=C1Nc2ccccc2N1CCNCc1ccc(CN2CCCCC2)o1",
                  "73.0",
                  "active",
                  "402.5020000000003",
                  "3.5459600000000027",
                  "2",
                  "7"
                ],
                [
                  "40",
                  "CHEMBL152722",
                  "COc1cc(N)c(Cl)cc1C(=O)NCCNCc1ccc(CN(C)C)o1",
                  "3100.0",
                  "intermediate",
                  "380.8760000000002",
                  "2.1050000000000004",
                  "3",
                  "6"
                ],
                [
                  "41",
                  "CHEMBL544022",
                  "CCN(CC)CCS/C(=N\\O)C(=O)c1ccc(Cl)cc1.Cl",
                  "520000.0",
                  "inactive",
                  "314.838",
                  "3.3854000000000015",
                  "1",
                  "5"
                ],
                [
                  "42",
                  "CHEMBL349127",
                  "CN1CCN(Cc2ccc(CNCCN3CCNC3=C(C#N)C#N)o2)CC1",
                  "4500.0",
                  "intermediate",
                  "369.4730000000001",
                  "0.2805600000000022",
                  "2",
                  "8"
                ],
                [
                  "43",
                  "CHEMBL156659",
                  "Oc1nc2ccccc2n1CCNCc1ccc(CN2CCCCC2)o1",
                  "1200.0",
                  "intermediate",
                  "354.4540000000002",
                  "3.1106000000000016",
                  "2",
                  "6"
                ],
                [
                  "44",
                  "CHEMBL45118",
                  "CC[N+](C)(CC)CCS/C(=N\\O)C(=O)c1ccc(OC)cc1.[Cl-]",
                  "1000000.0",
                  "inactive",
                  "325.45400000000006",
                  "2.885200000000001",
                  "1",
                  "5"
                ],
                [
                  "45",
                  "CHEMBL542609",
                  "Cc1ccc(C(=O)/C(=N/O)SCCN(C)C)cc1.Cl",
                  "1000000.0",
                  "inactive",
                  "266.366",
                  "2.2602200000000003",
                  "1",
                  "5"
                ],
                [
                  "46",
                  "CHEMBL155322",
                  "CC1CCCCN1Cc1ccc(CNCCN2CCNC2=C(C#N)C#N)o1",
                  "540.0",
                  "active",
                  "368.4850000000001",
                  "1.90756",
                  "2",
                  "7"
                ],
                [
                  "47",
                  "CHEMBL154211",
                  "N#CC(C#N)=C1NCCN1CCNCc1ccc(CN2CCCCC2)o1",
                  "30.0",
                  "active",
                  "354.4580000000002",
                  "1.519059999999999",
                  "2",
                  "7"
                ],
                [
                  "48",
                  "CHEMBL1203537",
                  "CNC(NCCNCc1ccc(CN2CCCCC2)o1)=C(C#N)C#N.Cl",
                  "830.0",
                  "active",
                  "342.4470000000001",
                  "1.4228600000000002",
                  "3",
                  "7"
                ],
                [
                  "49",
                  "CHEMBL86",
                  "CCN(CC)CCNC(=O)c1cc(Cl)c(N)cc1OC",
                  "20000.0",
                  "inactive",
                  "299.8020000000001",
                  "2.0023999999999997",
                  "2",
                  "4"
                ]
              ],
              "shape": {
                "columns": 8,
                "rows": 6642
              }
            },
            "text/html": [
              "<div>\n",
              "<style scoped>\n",
              "    .dataframe tbody tr th:only-of-type {\n",
              "        vertical-align: middle;\n",
              "    }\n",
              "\n",
              "    .dataframe tbody tr th {\n",
              "        vertical-align: top;\n",
              "    }\n",
              "\n",
              "    .dataframe thead th {\n",
              "        text-align: right;\n",
              "    }\n",
              "</style>\n",
              "<table border=\"1\" class=\"dataframe\">\n",
              "  <thead>\n",
              "    <tr style=\"text-align: right;\">\n",
              "      <th></th>\n",
              "      <th>molecule_chembl_id</th>\n",
              "      <th>canonical_smiles</th>\n",
              "      <th>standard_value</th>\n",
              "      <th>class</th>\n",
              "      <th>MW</th>\n",
              "      <th>LogP</th>\n",
              "      <th>NumHDonors</th>\n",
              "      <th>NumHAcceptors</th>\n",
              "    </tr>\n",
              "  </thead>\n",
              "  <tbody>\n",
              "    <tr>\n",
              "      <th>0</th>\n",
              "      <td>CHEMBL133897</td>\n",
              "      <td>CCOc1nn(-c2cccc(OCc3ccccc3)c2)c(=O)o1</td>\n",
              "      <td>750.0</td>\n",
              "      <td>active</td>\n",
              "      <td>312.325</td>\n",
              "      <td>2.8032</td>\n",
              "      <td>0</td>\n",
              "      <td>6</td>\n",
              "    </tr>\n",
              "    <tr>\n",
              "      <th>1</th>\n",
              "      <td>CHEMBL336398</td>\n",
              "      <td>O=C(N1CCCCC1)n1nc(-c2ccc(Cl)cc2)nc1SCC1CC1</td>\n",
              "      <td>100.0</td>\n",
              "      <td>active</td>\n",
              "      <td>376.913</td>\n",
              "      <td>4.5546</td>\n",
              "      <td>0</td>\n",
              "      <td>5</td>\n",
              "    </tr>\n",
              "    <tr>\n",
              "      <th>2</th>\n",
              "      <td>CHEMBL131588</td>\n",
              "      <td>CN(C(=O)n1nc(-c2ccc(Cl)cc2)nc1SCC(F)(F)F)c1ccccc1</td>\n",
              "      <td>50000.0</td>\n",
              "      <td>inactive</td>\n",
              "      <td>426.851</td>\n",
              "      <td>5.3574</td>\n",
              "      <td>0</td>\n",
              "      <td>5</td>\n",
              "    </tr>\n",
              "    <tr>\n",
              "      <th>3</th>\n",
              "      <td>CHEMBL130628</td>\n",
              "      <td>O=C(N1CCCCC1)n1nc(-c2ccc(Cl)cc2)nc1SCC(F)(F)F</td>\n",
              "      <td>300.0</td>\n",
              "      <td>active</td>\n",
              "      <td>404.845</td>\n",
              "      <td>4.7069</td>\n",
              "      <td>0</td>\n",
              "      <td>5</td>\n",
              "    </tr>\n",
              "    <tr>\n",
              "      <th>4</th>\n",
              "      <td>CHEMBL130478</td>\n",
              "      <td>CSc1nc(-c2ccc(OC(F)(F)F)cc2)nn1C(=O)N(C)C</td>\n",
              "      <td>800.0</td>\n",
              "      <td>active</td>\n",
              "      <td>346.334</td>\n",
              "      <td>3.0953</td>\n",
              "      <td>0</td>\n",
              "      <td>6</td>\n",
              "    </tr>\n",
              "    <tr>\n",
              "      <th>...</th>\n",
              "      <td>...</td>\n",
              "      <td>...</td>\n",
              "      <td>...</td>\n",
              "      <td>...</td>\n",
              "      <td>...</td>\n",
              "      <td>...</td>\n",
              "      <td>...</td>\n",
              "      <td>...</td>\n",
              "    </tr>\n",
              "    <tr>\n",
              "      <th>6637</th>\n",
              "      <td>CHEMBL5398421</td>\n",
              "      <td>COc1cc(O)c2c(c1)C(=O)c1cc(O)c(O)cc1CCN2</td>\n",
              "      <td>46000.0</td>\n",
              "      <td>inactive</td>\n",
              "      <td>301.298</td>\n",
              "      <td>2.0110</td>\n",
              "      <td>4</td>\n",
              "      <td>6</td>\n",
              "    </tr>\n",
              "    <tr>\n",
              "      <th>6638</th>\n",
              "      <td>CHEMBL11298</td>\n",
              "      <td>N[C@@H](CO)C(=O)O</td>\n",
              "      <td>38310.0</td>\n",
              "      <td>inactive</td>\n",
              "      <td>105.093</td>\n",
              "      <td>-1.6094</td>\n",
              "      <td>3</td>\n",
              "      <td>3</td>\n",
              "    </tr>\n",
              "    <tr>\n",
              "      <th>6639</th>\n",
              "      <td>CHEMBL5395312</td>\n",
              "      <td>CN1CCN(c2ccc(C(=O)Nc3cc(-c4nc5ccccc5[nH]4)n[nH...</td>\n",
              "      <td>1710.0</td>\n",
              "      <td>intermediate</td>\n",
              "      <td>401.474</td>\n",
              "      <td>2.9571</td>\n",
              "      <td>3</td>\n",
              "      <td>5</td>\n",
              "    </tr>\n",
              "    <tr>\n",
              "      <th>6640</th>\n",
              "      <td>CHEMBL5399112</td>\n",
              "      <td>O=C(Nc1cc(-c2nc3ccccc3[nH]2)n[nH]1)c1ccc(N2CCN...</td>\n",
              "      <td>10000.0</td>\n",
              "      <td>inactive</td>\n",
              "      <td>387.447</td>\n",
              "      <td>2.6149</td>\n",
              "      <td>4</td>\n",
              "      <td>5</td>\n",
              "    </tr>\n",
              "    <tr>\n",
              "      <th>6641</th>\n",
              "      <td>CHEMBL5402411</td>\n",
              "      <td>O=C(Nc1cc(-c2nc3ccccc3[nH]2)[nH]n1)c1ccc(N2CCO...</td>\n",
              "      <td>10000.0</td>\n",
              "      <td>inactive</td>\n",
              "      <td>388.431</td>\n",
              "      <td>3.0419</td>\n",
              "      <td>3</td>\n",
              "      <td>5</td>\n",
              "    </tr>\n",
              "  </tbody>\n",
              "</table>\n",
              "<p>6642 rows × 8 columns</p>\n",
              "</div>"
            ],
            "text/plain": [
              "     molecule_chembl_id                                   canonical_smiles  \\\n",
              "0          CHEMBL133897              CCOc1nn(-c2cccc(OCc3ccccc3)c2)c(=O)o1   \n",
              "1          CHEMBL336398         O=C(N1CCCCC1)n1nc(-c2ccc(Cl)cc2)nc1SCC1CC1   \n",
              "2          CHEMBL131588  CN(C(=O)n1nc(-c2ccc(Cl)cc2)nc1SCC(F)(F)F)c1ccccc1   \n",
              "3          CHEMBL130628      O=C(N1CCCCC1)n1nc(-c2ccc(Cl)cc2)nc1SCC(F)(F)F   \n",
              "4          CHEMBL130478          CSc1nc(-c2ccc(OC(F)(F)F)cc2)nn1C(=O)N(C)C   \n",
              "...                 ...                                                ...   \n",
              "6637      CHEMBL5398421            COc1cc(O)c2c(c1)C(=O)c1cc(O)c(O)cc1CCN2   \n",
              "6638        CHEMBL11298                                  N[C@@H](CO)C(=O)O   \n",
              "6639      CHEMBL5395312  CN1CCN(c2ccc(C(=O)Nc3cc(-c4nc5ccccc5[nH]4)n[nH...   \n",
              "6640      CHEMBL5399112  O=C(Nc1cc(-c2nc3ccccc3[nH]2)n[nH]1)c1ccc(N2CCN...   \n",
              "6641      CHEMBL5402411  O=C(Nc1cc(-c2nc3ccccc3[nH]2)[nH]n1)c1ccc(N2CCO...   \n",
              "\n",
              "      standard_value         class       MW    LogP  NumHDonors  NumHAcceptors  \n",
              "0              750.0        active  312.325  2.8032           0              6  \n",
              "1              100.0        active  376.913  4.5546           0              5  \n",
              "2            50000.0      inactive  426.851  5.3574           0              5  \n",
              "3              300.0        active  404.845  4.7069           0              5  \n",
              "4              800.0        active  346.334  3.0953           0              6  \n",
              "...              ...           ...      ...     ...         ...            ...  \n",
              "6637         46000.0      inactive  301.298  2.0110           4              6  \n",
              "6638         38310.0      inactive  105.093 -1.6094           3              3  \n",
              "6639          1710.0  intermediate  401.474  2.9571           3              5  \n",
              "6640         10000.0      inactive  387.447  2.6149           4              5  \n",
              "6641         10000.0      inactive  388.431  3.0419           3              5  \n",
              "\n",
              "[6642 rows x 8 columns]"
            ]
          },
          "execution_count": 13,
          "metadata": {},
          "output_type": "execute_result"
        }
      ],
      "source": [
        "df_combined"
      ]
    },
    {
      "cell_type": "markdown",
      "metadata": {
        "colab_type": "text",
        "id": "e0MLOedB6j96"
      },
      "source": [
        "### **Convert IC50 to pIC50**\n",
        "To allow **IC50** data to be more uniformly distributed, we will convert **IC50** to the negative logarithmic scale which is essentially **-log10(IC50)**.\n",
        "\n",
        "This custom function pIC50() will accept a DataFrame as input and will:\n",
        "* Take the IC50 values from the ``standard_value`` column and converts it from nM to M by multiplying the value by 10$^{-9}$\n",
        "* Take the molar value and apply -log10\n",
        "* Delete the ``standard_value`` column and create a new ``pIC50`` column"
      ]
    },
    {
      "cell_type": "code",
      "execution_count": 15,
      "metadata": {
        "colab": {},
        "colab_type": "code",
        "id": "UXMuFQoQ4pZF"
      },
      "outputs": [],
      "source": [
        "def pIC50(df):\n",
        "    \"\"\"\n",
        "    Convert IC₅₀ values (in nM) in the ‘standard_value_norm’ column\n",
        "    to pIC₅₀ (−log10[M]) and drop the original column.\n",
        "    \"\"\"\n",
        "    df = df.copy()\n",
        "    # Drop rows where standard_value_norm ≤ 0\n",
        "    mask = df['standard_value_norm'] > 0\n",
        "    if not mask.all():\n",
        "        n_bad = (~mask).sum()\n",
        "    df = df.loc[mask]\n",
        "    \n",
        "    df['pIC50'] = -np.log10(df['standard_value_norm'] * 1e-9)\n",
        "    return df.drop(columns=['standard_value_norm'])"
      ]
    },
    {
      "cell_type": "markdown",
      "metadata": {
        "colab_type": "text",
        "id": "WU5Fh1h2OaJJ"
      },
      "source": [
        "Point to note: Values greater than 100,000,000 will be fixed at 100,000,000 otherwise the negative logarithmic value will become negative."
      ]
    },
    {
      "cell_type": "code",
      "execution_count": 16,
      "metadata": {
        "colab": {
          "base_uri": "https://localhost:8080/",
          "height": 170
        },
        "colab_type": "code",
        "id": "QuUTFUpcR1wU",
        "outputId": "3e3fe22d-8587-42e3-c92e-396d37877589"
      },
      "outputs": [
        {
          "data": {
            "text/plain": [
              "count    6.642000e+03\n",
              "mean     1.026835e+05\n",
              "std      8.884597e+05\n",
              "min      0.000000e+00\n",
              "25%      1.592500e+02\n",
              "50%      2.600000e+03\n",
              "75%      1.713000e+04\n",
              "max      4.960000e+07\n",
              "Name: standard_value, dtype: float64"
            ]
          },
          "execution_count": 16,
          "metadata": {},
          "output_type": "execute_result"
        }
      ],
      "source": [
        "df_combined.standard_value.describe()"
      ]
    },
    {
      "cell_type": "code",
      "execution_count": 17,
      "metadata": {
        "colab": {},
        "colab_type": "code",
        "id": "iktHDDwtPDwl"
      },
      "outputs": [],
      "source": [
        "def norm_value(df):\n",
        "    \"\"\"\n",
        "    Clamp values in the ‘standard_value’ column to a maximum of 1e8,\n",
        "    store them in ‘standard_value_norm’, then drop the original column.\n",
        "    \"\"\"\n",
        "    # Make a copy if you don’t want to modify in‑place\n",
        "    df = df.copy()\n",
        "    \n",
        "    # Vectorized clamp (clip) instead of manual loop\n",
        "    df['standard_value_norm'] = df['standard_value'].clip(upper=1e8)\n",
        "    \n",
        "    # Drop the original column by name\n",
        "    df = df.drop(columns=['standard_value'])\n",
        "    \n",
        "    return df\n"
      ]
    },
    {
      "cell_type": "markdown",
      "metadata": {
        "colab_type": "text",
        "id": "EkrTs7RfPsrH"
      },
      "source": [
        "We will first apply the norm_value() function so that the values in the standard_value column is normalized."
      ]
    },
    {
      "cell_type": "code",
      "execution_count": 18,
      "metadata": {
        "colab": {
          "base_uri": "https://localhost:8080/",
          "height": 419
        },
        "colab_type": "code",
        "id": "EX2Mj2-ZP1Rj",
        "outputId": "8e07791e-d693-4d1b-9f82-f396d34c6338"
      },
      "outputs": [
        {
          "data": {
            "application/vnd.microsoft.datawrangler.viewer.v0+json": {
              "columns": [
                {
                  "name": "index",
                  "rawType": "int64",
                  "type": "integer"
                },
                {
                  "name": "molecule_chembl_id",
                  "rawType": "object",
                  "type": "string"
                },
                {
                  "name": "canonical_smiles",
                  "rawType": "object",
                  "type": "string"
                },
                {
                  "name": "class",
                  "rawType": "object",
                  "type": "string"
                },
                {
                  "name": "MW",
                  "rawType": "float64",
                  "type": "float"
                },
                {
                  "name": "LogP",
                  "rawType": "float64",
                  "type": "float"
                },
                {
                  "name": "NumHDonors",
                  "rawType": "int64",
                  "type": "integer"
                },
                {
                  "name": "NumHAcceptors",
                  "rawType": "int64",
                  "type": "integer"
                },
                {
                  "name": "standard_value_norm",
                  "rawType": "float64",
                  "type": "float"
                }
              ],
              "conversionMethod": "pd.DataFrame",
              "ref": "6b50352c-5f23-4863-9c6e-9231427c82f3",
              "rows": [
                [
                  "0",
                  "CHEMBL133897",
                  "CCOc1nn(-c2cccc(OCc3ccccc3)c2)c(=O)o1",
                  "active",
                  "312.32500000000005",
                  "2.8032000000000004",
                  "0",
                  "6",
                  "750.0"
                ],
                [
                  "1",
                  "CHEMBL336398",
                  "O=C(N1CCCCC1)n1nc(-c2ccc(Cl)cc2)nc1SCC1CC1",
                  "active",
                  "376.9130000000002",
                  "4.554600000000004",
                  "0",
                  "5",
                  "100.0"
                ],
                [
                  "2",
                  "CHEMBL131588",
                  "CN(C(=O)n1nc(-c2ccc(Cl)cc2)nc1SCC(F)(F)F)c1ccccc1",
                  "inactive",
                  "426.8510000000001",
                  "5.357400000000003",
                  "0",
                  "5",
                  "50000.0"
                ],
                [
                  "3",
                  "CHEMBL130628",
                  "O=C(N1CCCCC1)n1nc(-c2ccc(Cl)cc2)nc1SCC(F)(F)F",
                  "active",
                  "404.8450000000001",
                  "4.706900000000003",
                  "0",
                  "5",
                  "300.0"
                ],
                [
                  "4",
                  "CHEMBL130478",
                  "CSc1nc(-c2ccc(OC(F)(F)F)cc2)nn1C(=O)N(C)C",
                  "active",
                  "346.33400000000006",
                  "3.095300000000001",
                  "0",
                  "6",
                  "800.0"
                ],
                [
                  "5",
                  "CHEMBL130112",
                  "CSc1nc(-c2ccc(C)cc2)nn1C(=O)N(C)c1ccccc1",
                  "intermediate",
                  "338.43600000000004",
                  "4.079920000000002",
                  "0",
                  "5",
                  "2400.0"
                ],
                [
                  "6",
                  "CHEMBL130098",
                  "CSc1nc(-c2ccc(Cl)cc2)nn1C(=O)N(C)C",
                  "active",
                  "296.783",
                  "2.850100000000001",
                  "0",
                  "5",
                  "100.0"
                ],
                [
                  "7",
                  "CHEMBL337486",
                  "CCCCCCSc1nc(-c2ccc(Cl)cc2)nn1C(=O)N1CCOCC1",
                  "inactive",
                  "408.95500000000027",
                  "4.571200000000005",
                  "0",
                  "6",
                  "50000.0"
                ],
                [
                  "8",
                  "CHEMBL336538",
                  "COc1ccc(-c2nc(SC)n(C(=O)N(C)C)n2)cc1",
                  "active",
                  "292.364",
                  "2.2053000000000003",
                  "0",
                  "6",
                  "800.0"
                ],
                [
                  "9",
                  "CHEMBL131051",
                  "CSc1nc(-c2ccc(OC(F)(F)F)cc2)nn1C(=O)N(C)c1ccccc1",
                  "inactive",
                  "408.4050000000001",
                  "4.670100000000003",
                  "0",
                  "6",
                  "50000.0"
                ],
                [
                  "10",
                  "CHEMBL341437",
                  "CCSc1nc(-c2ccc(OC)cc2)nn1C(=O)N1CCOCC1",
                  "inactive",
                  "348.4280000000002",
                  "2.3659999999999997",
                  "0",
                  "7",
                  "50000.0"
                ],
                [
                  "11",
                  "CHEMBL335033",
                  "CSc1nc(-c2ccc3ccccc3c2)nn1C(=O)N(C)C",
                  "active",
                  "312.3980000000001",
                  "3.3499000000000017",
                  "0",
                  "5",
                  "50.0"
                ],
                [
                  "12",
                  "CHEMBL122983",
                  "C[C@H]1C(=O)N(C(=O)NCc2ccccc2)[C@@H]1Oc1ccc(C(=O)C(C)(C)C)cc1",
                  "inactive",
                  "394.4710000000002",
                  "4.0084000000000035",
                  "1",
                  "4",
                  "100000.0"
                ],
                [
                  "13",
                  "CHEMBL338720",
                  "CSc1nc(-c2ccc(-c3ccccc3)cc2)nn1C(=O)N(C)C",
                  "active",
                  "338.4360000000001",
                  "3.8637000000000032",
                  "0",
                  "5",
                  "560.0"
                ],
                [
                  "14",
                  "CHEMBL339995",
                  "CSc1nc(/C=C/c2ccccc2)nn1C(=O)N(C)C",
                  "active",
                  "288.37600000000003",
                  "2.700100000000001",
                  "0",
                  "5",
                  "10.0"
                ],
                [
                  "15",
                  "CHEMBL335158",
                  "CCCCCCSc1nc(-c2ccc(Cl)cc2)nn1C(=O)N1CCCCC1",
                  "active",
                  "406.9830000000003",
                  "5.724900000000006",
                  "0",
                  "5",
                  "10.0"
                ],
                [
                  "16",
                  "CHEMBL131536",
                  "CSc1nc(-c2ccc(Cl)cc2)nn1C(=O)N(C)c1ccccc1",
                  "intermediate",
                  "358.85400000000004",
                  "4.424900000000004",
                  "0",
                  "5",
                  "1400.0"
                ],
                [
                  "17",
                  "CHEMBL106126",
                  "Cc1c(C(C)C)c(=O)on1C(=O)N1CCC[C@H](C)C1",
                  "inactive",
                  "266.34099999999995",
                  "2.5731200000000003",
                  "0",
                  "4",
                  "17000.0"
                ],
                [
                  "18",
                  "CHEMBL334971",
                  "CCSc1nc(-c2ccc(OC)cc2)nn1C(=O)N(C)c1ccccc1",
                  "intermediate",
                  "368.4620000000001",
                  "4.170200000000003",
                  "0",
                  "6",
                  "1100.0"
                ],
                [
                  "19",
                  "CHEMBL336625",
                  "CCCCCCSc1nc(-c2ccc(C)cc2)nn1C(=O)N(C)c1ccccc1",
                  "inactive",
                  "408.57100000000014",
                  "6.0304200000000066",
                  "0",
                  "5",
                  "50000.0"
                ],
                [
                  "20",
                  "CHEMBL130666",
                  "CSc1nc(-c2ccc(Cl)cc2)nn1C(=O)N1CCCCC1",
                  "active",
                  "336.8480000000002",
                  "3.7744000000000026",
                  "0",
                  "5",
                  "26.0"
                ],
                [
                  "21",
                  "CHEMBL134061",
                  "O=C(N1CCOCC1)n1nc(-c2ccc(Cl)cc2)nc1SCC(F)(F)F",
                  "inactive",
                  "406.81700000000006",
                  "3.553200000000002",
                  "0",
                  "6",
                  "50000.0"
                ],
                [
                  "22",
                  "CHEMBL133388",
                  "CSc1nc(-c2ccc(C)cc2)nn1C(=O)N(C)C",
                  "active",
                  "276.365",
                  "2.5051200000000007",
                  "0",
                  "5",
                  "800.0"
                ],
                [
                  "23",
                  "CHEMBL130645",
                  "CSc1nc(-c2ccc(Cl)cc2)nn1C(=O)N1CCOCC1",
                  "inactive",
                  "338.82000000000016",
                  "2.620700000000001",
                  "0",
                  "6",
                  "50000.0"
                ],
                [
                  "24",
                  "CHEMBL133580",
                  "CCCCCCSc1nc(-c2ccc(Cl)cc2)nn1C(=O)N(C)c1ccccc1",
                  "inactive",
                  "428.98900000000015",
                  "6.375400000000006",
                  "0",
                  "5",
                  "50000.0"
                ],
                [
                  "25",
                  "CHEMBL336524",
                  "CCSc1nc(-c2ccc(Cl)cc2)nn1C(=O)N(C)C",
                  "active",
                  "310.81000000000006",
                  "3.2402000000000015",
                  "0",
                  "5",
                  "56.0"
                ],
                [
                  "26",
                  "CHEMBL336276",
                  "CCCCCCSc1nc(-c2ccc(C)cc2)nn1C(=O)N(C)C",
                  "active",
                  "346.5000000000001",
                  "4.455620000000004",
                  "0",
                  "5",
                  "200.0"
                ],
                [
                  "27",
                  "CHEMBL334395",
                  "CCCSc1nc(-c2ccc(Cl)cc2)nn1C(=O)N(C)C",
                  "active",
                  "324.8370000000001",
                  "3.6303000000000027",
                  "0",
                  "5",
                  "300.0"
                ],
                [
                  "28",
                  "CHEMBL131320",
                  "Cc1ccc(-c2nc(SCC(F)(F)F)n(C(=O)N(C)C)n2)cc1",
                  "active",
                  "344.362",
                  "3.4376200000000017",
                  "0",
                  "5",
                  "200.0"
                ],
                [
                  "29",
                  "CHEMBL339297",
                  "COc1nn(-c2ccc(NC(=O)c3ccc(C(C)(C)C)cc3)cc2)c(=O)o1",
                  "inactive",
                  "367.4050000000001",
                  "3.3839000000000015",
                  "1",
                  "6",
                  "50000.0"
                ],
                [
                  "30",
                  "CHEMBL337714",
                  "CSc1nc(-c2ccc(C(F)(F)F)cc2)nn1C(=O)N(C)C",
                  "active",
                  "330.33500000000004",
                  "3.2155000000000022",
                  "0",
                  "5",
                  "500.0"
                ],
                [
                  "31",
                  "CHEMBL122575",
                  "C[C@H]1C(=O)N(C(=O)NCc2ccccc2)[C@@H]1Oc1ccc(C(=O)O)cc1",
                  "inactive",
                  "354.3620000000001",
                  "2.4778000000000002",
                  "2",
                  "4",
                  "100000.0"
                ],
                [
                  "32",
                  "CHEMBL130704",
                  "CSc1nc(-c2ccc(C)cc2)nn1C(=O)N1CCOCC1",
                  "inactive",
                  "318.40200000000016",
                  "2.2757199999999997",
                  "0",
                  "6",
                  "50000.0"
                ],
                [
                  "33",
                  "CHEMBL46151",
                  "CCN(CC)CCS/C(=N\\O)C(=O)c1ccc(OC)cc1",
                  "inactive",
                  "310.41900000000004",
                  "2.7406000000000015",
                  "1",
                  "6",
                  "260000.0"
                ],
                [
                  "34",
                  "CHEMBL54126",
                  "CN(C)C(=O)Oc1cccc([N+](C)(C)C)c1.[Br-]",
                  "active",
                  "223.29599999999996",
                  "1.9437",
                  "0",
                  "2",
                  "22.0"
                ],
                [
                  "35",
                  "CHEMBL297316",
                  "C[N+](C)(C)CCS/C(=N\\O)C(=O)c1ccc(F)cc1.[Cl-]",
                  "inactive",
                  "285.36400000000003",
                  "2.2355",
                  "1",
                  "4",
                  "1000000.0"
                ],
                [
                  "36",
                  "CHEMBL65667",
                  "CN1CC[C@@]2(C)c3cc(OC(=O)NCCCN4CCOCC4)ccc3N(C)[C@@H]12",
                  "intermediate",
                  "388.51200000000017",
                  "1.8663999999999992",
                  "1",
                  "6",
                  "3800.0"
                ],
                [
                  "37",
                  "CHEMBL431519",
                  "CN1CC[C@@]2(C)c3cc(OC(=O)NCCCCCCCCCCN4CCOCC4)ccc3N(C)[C@@H]12",
                  "active",
                  "486.7010000000004",
                  "4.597100000000005",
                  "1",
                  "6",
                  "40.0"
                ],
                [
                  "38",
                  "CHEMBL296429",
                  "Cc1ccc(C(=O)/C(=N/O)SCC[N+](C)(C)C)cc1.[Cl-]",
                  "inactive",
                  "281.401",
                  "2.404820000000001",
                  "1",
                  "4",
                  "1000000.0"
                ],
                [
                  "39",
                  "CHEMBL154972",
                  "N#CC(C#N)=C1Nc2ccccc2N1CCNCc1ccc(CN2CCCCC2)o1",
                  "active",
                  "402.5020000000003",
                  "3.5459600000000027",
                  "2",
                  "7",
                  "73.0"
                ],
                [
                  "40",
                  "CHEMBL152722",
                  "COc1cc(N)c(Cl)cc1C(=O)NCCNCc1ccc(CN(C)C)o1",
                  "intermediate",
                  "380.8760000000002",
                  "2.1050000000000004",
                  "3",
                  "6",
                  "3100.0"
                ],
                [
                  "41",
                  "CHEMBL544022",
                  "CCN(CC)CCS/C(=N\\O)C(=O)c1ccc(Cl)cc1.Cl",
                  "inactive",
                  "314.838",
                  "3.3854000000000015",
                  "1",
                  "5",
                  "520000.0"
                ],
                [
                  "42",
                  "CHEMBL349127",
                  "CN1CCN(Cc2ccc(CNCCN3CCNC3=C(C#N)C#N)o2)CC1",
                  "intermediate",
                  "369.4730000000001",
                  "0.2805600000000022",
                  "2",
                  "8",
                  "4500.0"
                ],
                [
                  "43",
                  "CHEMBL156659",
                  "Oc1nc2ccccc2n1CCNCc1ccc(CN2CCCCC2)o1",
                  "intermediate",
                  "354.4540000000002",
                  "3.1106000000000016",
                  "2",
                  "6",
                  "1200.0"
                ],
                [
                  "44",
                  "CHEMBL45118",
                  "CC[N+](C)(CC)CCS/C(=N\\O)C(=O)c1ccc(OC)cc1.[Cl-]",
                  "inactive",
                  "325.45400000000006",
                  "2.885200000000001",
                  "1",
                  "5",
                  "1000000.0"
                ],
                [
                  "45",
                  "CHEMBL542609",
                  "Cc1ccc(C(=O)/C(=N/O)SCCN(C)C)cc1.Cl",
                  "inactive",
                  "266.366",
                  "2.2602200000000003",
                  "1",
                  "5",
                  "1000000.0"
                ],
                [
                  "46",
                  "CHEMBL155322",
                  "CC1CCCCN1Cc1ccc(CNCCN2CCNC2=C(C#N)C#N)o1",
                  "active",
                  "368.4850000000001",
                  "1.90756",
                  "2",
                  "7",
                  "540.0"
                ],
                [
                  "47",
                  "CHEMBL154211",
                  "N#CC(C#N)=C1NCCN1CCNCc1ccc(CN2CCCCC2)o1",
                  "active",
                  "354.4580000000002",
                  "1.519059999999999",
                  "2",
                  "7",
                  "30.0"
                ],
                [
                  "48",
                  "CHEMBL1203537",
                  "CNC(NCCNCc1ccc(CN2CCCCC2)o1)=C(C#N)C#N.Cl",
                  "active",
                  "342.4470000000001",
                  "1.4228600000000002",
                  "3",
                  "7",
                  "830.0"
                ],
                [
                  "49",
                  "CHEMBL86",
                  "CCN(CC)CCNC(=O)c1cc(Cl)c(N)cc1OC",
                  "inactive",
                  "299.8020000000001",
                  "2.0023999999999997",
                  "2",
                  "4",
                  "20000.0"
                ]
              ],
              "shape": {
                "columns": 8,
                "rows": 6642
              }
            },
            "text/html": [
              "<div>\n",
              "<style scoped>\n",
              "    .dataframe tbody tr th:only-of-type {\n",
              "        vertical-align: middle;\n",
              "    }\n",
              "\n",
              "    .dataframe tbody tr th {\n",
              "        vertical-align: top;\n",
              "    }\n",
              "\n",
              "    .dataframe thead th {\n",
              "        text-align: right;\n",
              "    }\n",
              "</style>\n",
              "<table border=\"1\" class=\"dataframe\">\n",
              "  <thead>\n",
              "    <tr style=\"text-align: right;\">\n",
              "      <th></th>\n",
              "      <th>molecule_chembl_id</th>\n",
              "      <th>canonical_smiles</th>\n",
              "      <th>class</th>\n",
              "      <th>MW</th>\n",
              "      <th>LogP</th>\n",
              "      <th>NumHDonors</th>\n",
              "      <th>NumHAcceptors</th>\n",
              "      <th>standard_value_norm</th>\n",
              "    </tr>\n",
              "  </thead>\n",
              "  <tbody>\n",
              "    <tr>\n",
              "      <th>0</th>\n",
              "      <td>CHEMBL133897</td>\n",
              "      <td>CCOc1nn(-c2cccc(OCc3ccccc3)c2)c(=O)o1</td>\n",
              "      <td>active</td>\n",
              "      <td>312.325</td>\n",
              "      <td>2.8032</td>\n",
              "      <td>0</td>\n",
              "      <td>6</td>\n",
              "      <td>750.0</td>\n",
              "    </tr>\n",
              "    <tr>\n",
              "      <th>1</th>\n",
              "      <td>CHEMBL336398</td>\n",
              "      <td>O=C(N1CCCCC1)n1nc(-c2ccc(Cl)cc2)nc1SCC1CC1</td>\n",
              "      <td>active</td>\n",
              "      <td>376.913</td>\n",
              "      <td>4.5546</td>\n",
              "      <td>0</td>\n",
              "      <td>5</td>\n",
              "      <td>100.0</td>\n",
              "    </tr>\n",
              "    <tr>\n",
              "      <th>2</th>\n",
              "      <td>CHEMBL131588</td>\n",
              "      <td>CN(C(=O)n1nc(-c2ccc(Cl)cc2)nc1SCC(F)(F)F)c1ccccc1</td>\n",
              "      <td>inactive</td>\n",
              "      <td>426.851</td>\n",
              "      <td>5.3574</td>\n",
              "      <td>0</td>\n",
              "      <td>5</td>\n",
              "      <td>50000.0</td>\n",
              "    </tr>\n",
              "    <tr>\n",
              "      <th>3</th>\n",
              "      <td>CHEMBL130628</td>\n",
              "      <td>O=C(N1CCCCC1)n1nc(-c2ccc(Cl)cc2)nc1SCC(F)(F)F</td>\n",
              "      <td>active</td>\n",
              "      <td>404.845</td>\n",
              "      <td>4.7069</td>\n",
              "      <td>0</td>\n",
              "      <td>5</td>\n",
              "      <td>300.0</td>\n",
              "    </tr>\n",
              "    <tr>\n",
              "      <th>4</th>\n",
              "      <td>CHEMBL130478</td>\n",
              "      <td>CSc1nc(-c2ccc(OC(F)(F)F)cc2)nn1C(=O)N(C)C</td>\n",
              "      <td>active</td>\n",
              "      <td>346.334</td>\n",
              "      <td>3.0953</td>\n",
              "      <td>0</td>\n",
              "      <td>6</td>\n",
              "      <td>800.0</td>\n",
              "    </tr>\n",
              "    <tr>\n",
              "      <th>...</th>\n",
              "      <td>...</td>\n",
              "      <td>...</td>\n",
              "      <td>...</td>\n",
              "      <td>...</td>\n",
              "      <td>...</td>\n",
              "      <td>...</td>\n",
              "      <td>...</td>\n",
              "      <td>...</td>\n",
              "    </tr>\n",
              "    <tr>\n",
              "      <th>6637</th>\n",
              "      <td>CHEMBL5398421</td>\n",
              "      <td>COc1cc(O)c2c(c1)C(=O)c1cc(O)c(O)cc1CCN2</td>\n",
              "      <td>inactive</td>\n",
              "      <td>301.298</td>\n",
              "      <td>2.0110</td>\n",
              "      <td>4</td>\n",
              "      <td>6</td>\n",
              "      <td>46000.0</td>\n",
              "    </tr>\n",
              "    <tr>\n",
              "      <th>6638</th>\n",
              "      <td>CHEMBL11298</td>\n",
              "      <td>N[C@@H](CO)C(=O)O</td>\n",
              "      <td>inactive</td>\n",
              "      <td>105.093</td>\n",
              "      <td>-1.6094</td>\n",
              "      <td>3</td>\n",
              "      <td>3</td>\n",
              "      <td>38310.0</td>\n",
              "    </tr>\n",
              "    <tr>\n",
              "      <th>6639</th>\n",
              "      <td>CHEMBL5395312</td>\n",
              "      <td>CN1CCN(c2ccc(C(=O)Nc3cc(-c4nc5ccccc5[nH]4)n[nH...</td>\n",
              "      <td>intermediate</td>\n",
              "      <td>401.474</td>\n",
              "      <td>2.9571</td>\n",
              "      <td>3</td>\n",
              "      <td>5</td>\n",
              "      <td>1710.0</td>\n",
              "    </tr>\n",
              "    <tr>\n",
              "      <th>6640</th>\n",
              "      <td>CHEMBL5399112</td>\n",
              "      <td>O=C(Nc1cc(-c2nc3ccccc3[nH]2)n[nH]1)c1ccc(N2CCN...</td>\n",
              "      <td>inactive</td>\n",
              "      <td>387.447</td>\n",
              "      <td>2.6149</td>\n",
              "      <td>4</td>\n",
              "      <td>5</td>\n",
              "      <td>10000.0</td>\n",
              "    </tr>\n",
              "    <tr>\n",
              "      <th>6641</th>\n",
              "      <td>CHEMBL5402411</td>\n",
              "      <td>O=C(Nc1cc(-c2nc3ccccc3[nH]2)[nH]n1)c1ccc(N2CCO...</td>\n",
              "      <td>inactive</td>\n",
              "      <td>388.431</td>\n",
              "      <td>3.0419</td>\n",
              "      <td>3</td>\n",
              "      <td>5</td>\n",
              "      <td>10000.0</td>\n",
              "    </tr>\n",
              "  </tbody>\n",
              "</table>\n",
              "<p>6642 rows × 8 columns</p>\n",
              "</div>"
            ],
            "text/plain": [
              "     molecule_chembl_id                                   canonical_smiles  \\\n",
              "0          CHEMBL133897              CCOc1nn(-c2cccc(OCc3ccccc3)c2)c(=O)o1   \n",
              "1          CHEMBL336398         O=C(N1CCCCC1)n1nc(-c2ccc(Cl)cc2)nc1SCC1CC1   \n",
              "2          CHEMBL131588  CN(C(=O)n1nc(-c2ccc(Cl)cc2)nc1SCC(F)(F)F)c1ccccc1   \n",
              "3          CHEMBL130628      O=C(N1CCCCC1)n1nc(-c2ccc(Cl)cc2)nc1SCC(F)(F)F   \n",
              "4          CHEMBL130478          CSc1nc(-c2ccc(OC(F)(F)F)cc2)nn1C(=O)N(C)C   \n",
              "...                 ...                                                ...   \n",
              "6637      CHEMBL5398421            COc1cc(O)c2c(c1)C(=O)c1cc(O)c(O)cc1CCN2   \n",
              "6638        CHEMBL11298                                  N[C@@H](CO)C(=O)O   \n",
              "6639      CHEMBL5395312  CN1CCN(c2ccc(C(=O)Nc3cc(-c4nc5ccccc5[nH]4)n[nH...   \n",
              "6640      CHEMBL5399112  O=C(Nc1cc(-c2nc3ccccc3[nH]2)n[nH]1)c1ccc(N2CCN...   \n",
              "6641      CHEMBL5402411  O=C(Nc1cc(-c2nc3ccccc3[nH]2)[nH]n1)c1ccc(N2CCO...   \n",
              "\n",
              "             class       MW    LogP  NumHDonors  NumHAcceptors  \\\n",
              "0           active  312.325  2.8032           0              6   \n",
              "1           active  376.913  4.5546           0              5   \n",
              "2         inactive  426.851  5.3574           0              5   \n",
              "3           active  404.845  4.7069           0              5   \n",
              "4           active  346.334  3.0953           0              6   \n",
              "...            ...      ...     ...         ...            ...   \n",
              "6637      inactive  301.298  2.0110           4              6   \n",
              "6638      inactive  105.093 -1.6094           3              3   \n",
              "6639  intermediate  401.474  2.9571           3              5   \n",
              "6640      inactive  387.447  2.6149           4              5   \n",
              "6641      inactive  388.431  3.0419           3              5   \n",
              "\n",
              "      standard_value_norm  \n",
              "0                   750.0  \n",
              "1                   100.0  \n",
              "2                 50000.0  \n",
              "3                   300.0  \n",
              "4                   800.0  \n",
              "...                   ...  \n",
              "6637              46000.0  \n",
              "6638              38310.0  \n",
              "6639               1710.0  \n",
              "6640              10000.0  \n",
              "6641              10000.0  \n",
              "\n",
              "[6642 rows x 8 columns]"
            ]
          },
          "execution_count": 18,
          "metadata": {},
          "output_type": "execute_result"
        }
      ],
      "source": [
        "df_norm = norm_value(df_combined)\n",
        "df_norm"
      ]
    },
    {
      "cell_type": "code",
      "execution_count": 19,
      "metadata": {
        "colab": {
          "base_uri": "https://localhost:8080/",
          "height": 170
        },
        "colab_type": "code",
        "id": "hb1eKrIjRiH9",
        "outputId": "8435d28b-9774-4567-8134-51bfc3fc8271"
      },
      "outputs": [
        {
          "data": {
            "text/plain": [
              "count    6.642000e+03\n",
              "mean     1.026835e+05\n",
              "std      8.884597e+05\n",
              "min      0.000000e+00\n",
              "25%      1.592500e+02\n",
              "50%      2.600000e+03\n",
              "75%      1.713000e+04\n",
              "max      4.960000e+07\n",
              "Name: standard_value_norm, dtype: float64"
            ]
          },
          "execution_count": 19,
          "metadata": {},
          "output_type": "execute_result"
        }
      ],
      "source": [
        "df_norm.standard_value_norm.describe()"
      ]
    },
    {
      "cell_type": "code",
      "execution_count": 20,
      "metadata": {
        "colab": {
          "base_uri": "https://localhost:8080/",
          "height": 419
        },
        "colab_type": "code",
        "id": "UDKZzmK57YnS",
        "outputId": "89ec9de3-c71e-44fb-86a5-3b4172cf9e63"
      },
      "outputs": [
        {
          "data": {
            "application/vnd.microsoft.datawrangler.viewer.v0+json": {
              "columns": [
                {
                  "name": "index",
                  "rawType": "int64",
                  "type": "integer"
                },
                {
                  "name": "molecule_chembl_id",
                  "rawType": "object",
                  "type": "string"
                },
                {
                  "name": "canonical_smiles",
                  "rawType": "object",
                  "type": "string"
                },
                {
                  "name": "class",
                  "rawType": "object",
                  "type": "string"
                },
                {
                  "name": "MW",
                  "rawType": "float64",
                  "type": "float"
                },
                {
                  "name": "LogP",
                  "rawType": "float64",
                  "type": "float"
                },
                {
                  "name": "NumHDonors",
                  "rawType": "int64",
                  "type": "integer"
                },
                {
                  "name": "NumHAcceptors",
                  "rawType": "int64",
                  "type": "integer"
                },
                {
                  "name": "pIC50",
                  "rawType": "float64",
                  "type": "float"
                }
              ],
              "conversionMethod": "pd.DataFrame",
              "ref": "8ef0334e-efa1-45e3-b35f-f99bd3efd39a",
              "rows": [
                [
                  "0",
                  "CHEMBL133897",
                  "CCOc1nn(-c2cccc(OCc3ccccc3)c2)c(=O)o1",
                  "active",
                  "312.32500000000005",
                  "2.8032000000000004",
                  "0",
                  "6",
                  "6.1249387366083"
                ],
                [
                  "1",
                  "CHEMBL336398",
                  "O=C(N1CCCCC1)n1nc(-c2ccc(Cl)cc2)nc1SCC1CC1",
                  "active",
                  "376.9130000000002",
                  "4.554600000000004",
                  "0",
                  "5",
                  "7.0"
                ],
                [
                  "2",
                  "CHEMBL131588",
                  "CN(C(=O)n1nc(-c2ccc(Cl)cc2)nc1SCC(F)(F)F)c1ccccc1",
                  "inactive",
                  "426.8510000000001",
                  "5.357400000000003",
                  "0",
                  "5",
                  "4.301029995663981"
                ],
                [
                  "3",
                  "CHEMBL130628",
                  "O=C(N1CCCCC1)n1nc(-c2ccc(Cl)cc2)nc1SCC(F)(F)F",
                  "active",
                  "404.8450000000001",
                  "4.706900000000003",
                  "0",
                  "5",
                  "6.522878745280337"
                ],
                [
                  "4",
                  "CHEMBL130478",
                  "CSc1nc(-c2ccc(OC(F)(F)F)cc2)nn1C(=O)N(C)C",
                  "active",
                  "346.33400000000006",
                  "3.095300000000001",
                  "0",
                  "6",
                  "6.096910013008056"
                ],
                [
                  "5",
                  "CHEMBL130112",
                  "CSc1nc(-c2ccc(C)cc2)nn1C(=O)N(C)c1ccccc1",
                  "intermediate",
                  "338.43600000000004",
                  "4.079920000000002",
                  "0",
                  "5",
                  "5.619788758288394"
                ],
                [
                  "6",
                  "CHEMBL130098",
                  "CSc1nc(-c2ccc(Cl)cc2)nn1C(=O)N(C)C",
                  "active",
                  "296.783",
                  "2.850100000000001",
                  "0",
                  "5",
                  "7.0"
                ],
                [
                  "7",
                  "CHEMBL337486",
                  "CCCCCCSc1nc(-c2ccc(Cl)cc2)nn1C(=O)N1CCOCC1",
                  "inactive",
                  "408.95500000000027",
                  "4.571200000000005",
                  "0",
                  "6",
                  "4.301029995663981"
                ],
                [
                  "8",
                  "CHEMBL336538",
                  "COc1ccc(-c2nc(SC)n(C(=O)N(C)C)n2)cc1",
                  "active",
                  "292.364",
                  "2.2053000000000003",
                  "0",
                  "6",
                  "6.096910013008056"
                ],
                [
                  "9",
                  "CHEMBL131051",
                  "CSc1nc(-c2ccc(OC(F)(F)F)cc2)nn1C(=O)N(C)c1ccccc1",
                  "inactive",
                  "408.4050000000001",
                  "4.670100000000003",
                  "0",
                  "6",
                  "4.301029995663981"
                ],
                [
                  "10",
                  "CHEMBL341437",
                  "CCSc1nc(-c2ccc(OC)cc2)nn1C(=O)N1CCOCC1",
                  "inactive",
                  "348.4280000000002",
                  "2.3659999999999997",
                  "0",
                  "7",
                  "4.301029995663981"
                ],
                [
                  "11",
                  "CHEMBL335033",
                  "CSc1nc(-c2ccc3ccccc3c2)nn1C(=O)N(C)C",
                  "active",
                  "312.3980000000001",
                  "3.3499000000000017",
                  "0",
                  "5",
                  "7.301029995663981"
                ],
                [
                  "12",
                  "CHEMBL122983",
                  "C[C@H]1C(=O)N(C(=O)NCc2ccccc2)[C@@H]1Oc1ccc(C(=O)C(C)(C)C)cc1",
                  "inactive",
                  "394.4710000000002",
                  "4.0084000000000035",
                  "1",
                  "4",
                  "4.0"
                ],
                [
                  "13",
                  "CHEMBL338720",
                  "CSc1nc(-c2ccc(-c3ccccc3)cc2)nn1C(=O)N(C)C",
                  "active",
                  "338.4360000000001",
                  "3.8637000000000032",
                  "0",
                  "5",
                  "6.251811972993799"
                ],
                [
                  "14",
                  "CHEMBL339995",
                  "CSc1nc(/C=C/c2ccccc2)nn1C(=O)N(C)C",
                  "active",
                  "288.37600000000003",
                  "2.700100000000001",
                  "0",
                  "5",
                  "8.0"
                ],
                [
                  "15",
                  "CHEMBL335158",
                  "CCCCCCSc1nc(-c2ccc(Cl)cc2)nn1C(=O)N1CCCCC1",
                  "active",
                  "406.9830000000003",
                  "5.724900000000006",
                  "0",
                  "5",
                  "8.0"
                ],
                [
                  "16",
                  "CHEMBL131536",
                  "CSc1nc(-c2ccc(Cl)cc2)nn1C(=O)N(C)c1ccccc1",
                  "intermediate",
                  "358.85400000000004",
                  "4.424900000000004",
                  "0",
                  "5",
                  "5.853871964321762"
                ],
                [
                  "17",
                  "CHEMBL106126",
                  "Cc1c(C(C)C)c(=O)on1C(=O)N1CCC[C@H](C)C1",
                  "inactive",
                  "266.34099999999995",
                  "2.5731200000000003",
                  "0",
                  "4",
                  "4.769551078621726"
                ],
                [
                  "18",
                  "CHEMBL334971",
                  "CCSc1nc(-c2ccc(OC)cc2)nn1C(=O)N(C)c1ccccc1",
                  "intermediate",
                  "368.4620000000001",
                  "4.170200000000003",
                  "0",
                  "6",
                  "5.958607314841775"
                ],
                [
                  "19",
                  "CHEMBL336625",
                  "CCCCCCSc1nc(-c2ccc(C)cc2)nn1C(=O)N(C)c1ccccc1",
                  "inactive",
                  "408.57100000000014",
                  "6.0304200000000066",
                  "0",
                  "5",
                  "4.301029995663981"
                ],
                [
                  "20",
                  "CHEMBL130666",
                  "CSc1nc(-c2ccc(Cl)cc2)nn1C(=O)N1CCCCC1",
                  "active",
                  "336.8480000000002",
                  "3.7744000000000026",
                  "0",
                  "5",
                  "7.585026652029182"
                ],
                [
                  "21",
                  "CHEMBL134061",
                  "O=C(N1CCOCC1)n1nc(-c2ccc(Cl)cc2)nc1SCC(F)(F)F",
                  "inactive",
                  "406.81700000000006",
                  "3.553200000000002",
                  "0",
                  "6",
                  "4.301029995663981"
                ],
                [
                  "22",
                  "CHEMBL133388",
                  "CSc1nc(-c2ccc(C)cc2)nn1C(=O)N(C)C",
                  "active",
                  "276.365",
                  "2.5051200000000007",
                  "0",
                  "5",
                  "6.096910013008056"
                ],
                [
                  "23",
                  "CHEMBL130645",
                  "CSc1nc(-c2ccc(Cl)cc2)nn1C(=O)N1CCOCC1",
                  "inactive",
                  "338.82000000000016",
                  "2.620700000000001",
                  "0",
                  "6",
                  "4.301029995663981"
                ],
                [
                  "24",
                  "CHEMBL133580",
                  "CCCCCCSc1nc(-c2ccc(Cl)cc2)nn1C(=O)N(C)c1ccccc1",
                  "inactive",
                  "428.98900000000015",
                  "6.375400000000006",
                  "0",
                  "5",
                  "4.301029995663981"
                ],
                [
                  "25",
                  "CHEMBL336524",
                  "CCSc1nc(-c2ccc(Cl)cc2)nn1C(=O)N(C)C",
                  "active",
                  "310.81000000000006",
                  "3.2402000000000015",
                  "0",
                  "5",
                  "7.251811972993799"
                ],
                [
                  "26",
                  "CHEMBL336276",
                  "CCCCCCSc1nc(-c2ccc(C)cc2)nn1C(=O)N(C)C",
                  "active",
                  "346.5000000000001",
                  "4.455620000000004",
                  "0",
                  "5",
                  "6.698970004336019"
                ],
                [
                  "27",
                  "CHEMBL334395",
                  "CCCSc1nc(-c2ccc(Cl)cc2)nn1C(=O)N(C)C",
                  "active",
                  "324.8370000000001",
                  "3.6303000000000027",
                  "0",
                  "5",
                  "6.522878745280337"
                ],
                [
                  "28",
                  "CHEMBL131320",
                  "Cc1ccc(-c2nc(SCC(F)(F)F)n(C(=O)N(C)C)n2)cc1",
                  "active",
                  "344.362",
                  "3.4376200000000017",
                  "0",
                  "5",
                  "6.698970004336019"
                ],
                [
                  "29",
                  "CHEMBL339297",
                  "COc1nn(-c2ccc(NC(=O)c3ccc(C(C)(C)C)cc3)cc2)c(=O)o1",
                  "inactive",
                  "367.4050000000001",
                  "3.3839000000000015",
                  "1",
                  "6",
                  "4.301029995663981"
                ],
                [
                  "30",
                  "CHEMBL337714",
                  "CSc1nc(-c2ccc(C(F)(F)F)cc2)nn1C(=O)N(C)C",
                  "active",
                  "330.33500000000004",
                  "3.2155000000000022",
                  "0",
                  "5",
                  "6.301029995663981"
                ],
                [
                  "31",
                  "CHEMBL122575",
                  "C[C@H]1C(=O)N(C(=O)NCc2ccccc2)[C@@H]1Oc1ccc(C(=O)O)cc1",
                  "inactive",
                  "354.3620000000001",
                  "2.4778000000000002",
                  "2",
                  "4",
                  "4.0"
                ],
                [
                  "32",
                  "CHEMBL130704",
                  "CSc1nc(-c2ccc(C)cc2)nn1C(=O)N1CCOCC1",
                  "inactive",
                  "318.40200000000016",
                  "2.2757199999999997",
                  "0",
                  "6",
                  "4.301029995663981"
                ],
                [
                  "33",
                  "CHEMBL46151",
                  "CCN(CC)CCS/C(=N\\O)C(=O)c1ccc(OC)cc1",
                  "inactive",
                  "310.41900000000004",
                  "2.7406000000000015",
                  "1",
                  "6",
                  "3.585026652029182"
                ],
                [
                  "34",
                  "CHEMBL54126",
                  "CN(C)C(=O)Oc1cccc([N+](C)(C)C)c1.[Br-]",
                  "active",
                  "223.29599999999996",
                  "1.9437",
                  "0",
                  "2",
                  "7.657577319177793"
                ],
                [
                  "35",
                  "CHEMBL297316",
                  "C[N+](C)(C)CCS/C(=N\\O)C(=O)c1ccc(F)cc1.[Cl-]",
                  "inactive",
                  "285.36400000000003",
                  "2.2355",
                  "1",
                  "4",
                  "3.0"
                ],
                [
                  "36",
                  "CHEMBL65667",
                  "CN1CC[C@@]2(C)c3cc(OC(=O)NCCCN4CCOCC4)ccc3N(C)[C@@H]12",
                  "intermediate",
                  "388.51200000000017",
                  "1.8663999999999992",
                  "1",
                  "6",
                  "5.42021640338319"
                ],
                [
                  "37",
                  "CHEMBL431519",
                  "CN1CC[C@@]2(C)c3cc(OC(=O)NCCCCCCCCCCN4CCOCC4)ccc3N(C)[C@@H]12",
                  "active",
                  "486.7010000000004",
                  "4.597100000000005",
                  "1",
                  "6",
                  "7.3979400086720375"
                ],
                [
                  "38",
                  "CHEMBL296429",
                  "Cc1ccc(C(=O)/C(=N/O)SCC[N+](C)(C)C)cc1.[Cl-]",
                  "inactive",
                  "281.401",
                  "2.404820000000001",
                  "1",
                  "4",
                  "3.0"
                ],
                [
                  "39",
                  "CHEMBL154972",
                  "N#CC(C#N)=C1Nc2ccccc2N1CCNCc1ccc(CN2CCCCC2)o1",
                  "active",
                  "402.5020000000003",
                  "3.5459600000000027",
                  "2",
                  "7",
                  "7.136677139879544"
                ],
                [
                  "40",
                  "CHEMBL152722",
                  "COc1cc(N)c(Cl)cc1C(=O)NCCNCc1ccc(CN(C)C)o1",
                  "intermediate",
                  "380.8760000000002",
                  "2.1050000000000004",
                  "3",
                  "6",
                  "5.508638306165727"
                ],
                [
                  "41",
                  "CHEMBL544022",
                  "CCN(CC)CCS/C(=N\\O)C(=O)c1ccc(Cl)cc1.Cl",
                  "inactive",
                  "314.838",
                  "3.3854000000000015",
                  "1",
                  "5",
                  "3.283996656365201"
                ],
                [
                  "42",
                  "CHEMBL349127",
                  "CN1CCN(Cc2ccc(CNCCN3CCNC3=C(C#N)C#N)o2)CC1",
                  "intermediate",
                  "369.4730000000001",
                  "0.2805600000000022",
                  "2",
                  "8",
                  "5.346787486224656"
                ],
                [
                  "43",
                  "CHEMBL156659",
                  "Oc1nc2ccccc2n1CCNCc1ccc(CN2CCCCC2)o1",
                  "intermediate",
                  "354.4540000000002",
                  "3.1106000000000016",
                  "2",
                  "6",
                  "5.920818753952375"
                ],
                [
                  "44",
                  "CHEMBL45118",
                  "CC[N+](C)(CC)CCS/C(=N\\O)C(=O)c1ccc(OC)cc1.[Cl-]",
                  "inactive",
                  "325.45400000000006",
                  "2.885200000000001",
                  "1",
                  "5",
                  "3.0"
                ],
                [
                  "45",
                  "CHEMBL542609",
                  "Cc1ccc(C(=O)/C(=N/O)SCCN(C)C)cc1.Cl",
                  "inactive",
                  "266.366",
                  "2.2602200000000003",
                  "1",
                  "5",
                  "3.0"
                ],
                [
                  "46",
                  "CHEMBL155322",
                  "CC1CCCCN1Cc1ccc(CNCCN2CCNC2=C(C#N)C#N)o1",
                  "active",
                  "368.4850000000001",
                  "1.90756",
                  "2",
                  "7",
                  "6.267606240177032"
                ],
                [
                  "47",
                  "CHEMBL154211",
                  "N#CC(C#N)=C1NCCN1CCNCc1ccc(CN2CCCCC2)o1",
                  "active",
                  "354.4580000000002",
                  "1.519059999999999",
                  "2",
                  "7",
                  "7.522878745280337"
                ],
                [
                  "48",
                  "CHEMBL1203537",
                  "CNC(NCCNCc1ccc(CN2CCCCC2)o1)=C(C#N)C#N.Cl",
                  "active",
                  "342.4470000000001",
                  "1.4228600000000002",
                  "3",
                  "7",
                  "6.080921907623926"
                ],
                [
                  "49",
                  "CHEMBL86",
                  "CCN(CC)CCNC(=O)c1cc(Cl)c(N)cc1OC",
                  "inactive",
                  "299.8020000000001",
                  "2.0023999999999997",
                  "2",
                  "4",
                  "4.698970004336019"
                ]
              ],
              "shape": {
                "columns": 8,
                "rows": 6641
              }
            },
            "text/html": [
              "<div>\n",
              "<style scoped>\n",
              "    .dataframe tbody tr th:only-of-type {\n",
              "        vertical-align: middle;\n",
              "    }\n",
              "\n",
              "    .dataframe tbody tr th {\n",
              "        vertical-align: top;\n",
              "    }\n",
              "\n",
              "    .dataframe thead th {\n",
              "        text-align: right;\n",
              "    }\n",
              "</style>\n",
              "<table border=\"1\" class=\"dataframe\">\n",
              "  <thead>\n",
              "    <tr style=\"text-align: right;\">\n",
              "      <th></th>\n",
              "      <th>molecule_chembl_id</th>\n",
              "      <th>canonical_smiles</th>\n",
              "      <th>class</th>\n",
              "      <th>MW</th>\n",
              "      <th>LogP</th>\n",
              "      <th>NumHDonors</th>\n",
              "      <th>NumHAcceptors</th>\n",
              "      <th>pIC50</th>\n",
              "    </tr>\n",
              "  </thead>\n",
              "  <tbody>\n",
              "    <tr>\n",
              "      <th>0</th>\n",
              "      <td>CHEMBL133897</td>\n",
              "      <td>CCOc1nn(-c2cccc(OCc3ccccc3)c2)c(=O)o1</td>\n",
              "      <td>active</td>\n",
              "      <td>312.325</td>\n",
              "      <td>2.8032</td>\n",
              "      <td>0</td>\n",
              "      <td>6</td>\n",
              "      <td>6.124939</td>\n",
              "    </tr>\n",
              "    <tr>\n",
              "      <th>1</th>\n",
              "      <td>CHEMBL336398</td>\n",
              "      <td>O=C(N1CCCCC1)n1nc(-c2ccc(Cl)cc2)nc1SCC1CC1</td>\n",
              "      <td>active</td>\n",
              "      <td>376.913</td>\n",
              "      <td>4.5546</td>\n",
              "      <td>0</td>\n",
              "      <td>5</td>\n",
              "      <td>7.000000</td>\n",
              "    </tr>\n",
              "    <tr>\n",
              "      <th>2</th>\n",
              "      <td>CHEMBL131588</td>\n",
              "      <td>CN(C(=O)n1nc(-c2ccc(Cl)cc2)nc1SCC(F)(F)F)c1ccccc1</td>\n",
              "      <td>inactive</td>\n",
              "      <td>426.851</td>\n",
              "      <td>5.3574</td>\n",
              "      <td>0</td>\n",
              "      <td>5</td>\n",
              "      <td>4.301030</td>\n",
              "    </tr>\n",
              "    <tr>\n",
              "      <th>3</th>\n",
              "      <td>CHEMBL130628</td>\n",
              "      <td>O=C(N1CCCCC1)n1nc(-c2ccc(Cl)cc2)nc1SCC(F)(F)F</td>\n",
              "      <td>active</td>\n",
              "      <td>404.845</td>\n",
              "      <td>4.7069</td>\n",
              "      <td>0</td>\n",
              "      <td>5</td>\n",
              "      <td>6.522879</td>\n",
              "    </tr>\n",
              "    <tr>\n",
              "      <th>4</th>\n",
              "      <td>CHEMBL130478</td>\n",
              "      <td>CSc1nc(-c2ccc(OC(F)(F)F)cc2)nn1C(=O)N(C)C</td>\n",
              "      <td>active</td>\n",
              "      <td>346.334</td>\n",
              "      <td>3.0953</td>\n",
              "      <td>0</td>\n",
              "      <td>6</td>\n",
              "      <td>6.096910</td>\n",
              "    </tr>\n",
              "    <tr>\n",
              "      <th>...</th>\n",
              "      <td>...</td>\n",
              "      <td>...</td>\n",
              "      <td>...</td>\n",
              "      <td>...</td>\n",
              "      <td>...</td>\n",
              "      <td>...</td>\n",
              "      <td>...</td>\n",
              "      <td>...</td>\n",
              "    </tr>\n",
              "    <tr>\n",
              "      <th>6637</th>\n",
              "      <td>CHEMBL5398421</td>\n",
              "      <td>COc1cc(O)c2c(c1)C(=O)c1cc(O)c(O)cc1CCN2</td>\n",
              "      <td>inactive</td>\n",
              "      <td>301.298</td>\n",
              "      <td>2.0110</td>\n",
              "      <td>4</td>\n",
              "      <td>6</td>\n",
              "      <td>4.337242</td>\n",
              "    </tr>\n",
              "    <tr>\n",
              "      <th>6638</th>\n",
              "      <td>CHEMBL11298</td>\n",
              "      <td>N[C@@H](CO)C(=O)O</td>\n",
              "      <td>inactive</td>\n",
              "      <td>105.093</td>\n",
              "      <td>-1.6094</td>\n",
              "      <td>3</td>\n",
              "      <td>3</td>\n",
              "      <td>4.416688</td>\n",
              "    </tr>\n",
              "    <tr>\n",
              "      <th>6639</th>\n",
              "      <td>CHEMBL5395312</td>\n",
              "      <td>CN1CCN(c2ccc(C(=O)Nc3cc(-c4nc5ccccc5[nH]4)n[nH...</td>\n",
              "      <td>intermediate</td>\n",
              "      <td>401.474</td>\n",
              "      <td>2.9571</td>\n",
              "      <td>3</td>\n",
              "      <td>5</td>\n",
              "      <td>5.767004</td>\n",
              "    </tr>\n",
              "    <tr>\n",
              "      <th>6640</th>\n",
              "      <td>CHEMBL5399112</td>\n",
              "      <td>O=C(Nc1cc(-c2nc3ccccc3[nH]2)n[nH]1)c1ccc(N2CCN...</td>\n",
              "      <td>inactive</td>\n",
              "      <td>387.447</td>\n",
              "      <td>2.6149</td>\n",
              "      <td>4</td>\n",
              "      <td>5</td>\n",
              "      <td>5.000000</td>\n",
              "    </tr>\n",
              "    <tr>\n",
              "      <th>6641</th>\n",
              "      <td>CHEMBL5402411</td>\n",
              "      <td>O=C(Nc1cc(-c2nc3ccccc3[nH]2)[nH]n1)c1ccc(N2CCO...</td>\n",
              "      <td>inactive</td>\n",
              "      <td>388.431</td>\n",
              "      <td>3.0419</td>\n",
              "      <td>3</td>\n",
              "      <td>5</td>\n",
              "      <td>5.000000</td>\n",
              "    </tr>\n",
              "  </tbody>\n",
              "</table>\n",
              "<p>6641 rows × 8 columns</p>\n",
              "</div>"
            ],
            "text/plain": [
              "     molecule_chembl_id                                   canonical_smiles  \\\n",
              "0          CHEMBL133897              CCOc1nn(-c2cccc(OCc3ccccc3)c2)c(=O)o1   \n",
              "1          CHEMBL336398         O=C(N1CCCCC1)n1nc(-c2ccc(Cl)cc2)nc1SCC1CC1   \n",
              "2          CHEMBL131588  CN(C(=O)n1nc(-c2ccc(Cl)cc2)nc1SCC(F)(F)F)c1ccccc1   \n",
              "3          CHEMBL130628      O=C(N1CCCCC1)n1nc(-c2ccc(Cl)cc2)nc1SCC(F)(F)F   \n",
              "4          CHEMBL130478          CSc1nc(-c2ccc(OC(F)(F)F)cc2)nn1C(=O)N(C)C   \n",
              "...                 ...                                                ...   \n",
              "6637      CHEMBL5398421            COc1cc(O)c2c(c1)C(=O)c1cc(O)c(O)cc1CCN2   \n",
              "6638        CHEMBL11298                                  N[C@@H](CO)C(=O)O   \n",
              "6639      CHEMBL5395312  CN1CCN(c2ccc(C(=O)Nc3cc(-c4nc5ccccc5[nH]4)n[nH...   \n",
              "6640      CHEMBL5399112  O=C(Nc1cc(-c2nc3ccccc3[nH]2)n[nH]1)c1ccc(N2CCN...   \n",
              "6641      CHEMBL5402411  O=C(Nc1cc(-c2nc3ccccc3[nH]2)[nH]n1)c1ccc(N2CCO...   \n",
              "\n",
              "             class       MW    LogP  NumHDonors  NumHAcceptors     pIC50  \n",
              "0           active  312.325  2.8032           0              6  6.124939  \n",
              "1           active  376.913  4.5546           0              5  7.000000  \n",
              "2         inactive  426.851  5.3574           0              5  4.301030  \n",
              "3           active  404.845  4.7069           0              5  6.522879  \n",
              "4           active  346.334  3.0953           0              6  6.096910  \n",
              "...            ...      ...     ...         ...            ...       ...  \n",
              "6637      inactive  301.298  2.0110           4              6  4.337242  \n",
              "6638      inactive  105.093 -1.6094           3              3  4.416688  \n",
              "6639  intermediate  401.474  2.9571           3              5  5.767004  \n",
              "6640      inactive  387.447  2.6149           4              5  5.000000  \n",
              "6641      inactive  388.431  3.0419           3              5  5.000000  \n",
              "\n",
              "[6641 rows x 8 columns]"
            ]
          },
          "execution_count": 20,
          "metadata": {},
          "output_type": "execute_result"
        }
      ],
      "source": [
        "df_final = pIC50(df_norm)\n",
        "df_final"
      ]
    },
    {
      "cell_type": "code",
      "execution_count": 59,
      "metadata": {
        "colab": {
          "base_uri": "https://localhost:8080/",
          "height": 170
        },
        "colab_type": "code",
        "id": "BoqY53udSTYC",
        "outputId": "13f3b5ff-acf5-4136-b8a3-f494066d4824"
      },
      "outputs": [
        {
          "data": {
            "text/plain": [
              "count    6641.000000\n",
              "mean        5.801767\n",
              "std         1.558782\n",
              "min         1.304518\n",
              "25%         4.765989\n",
              "50%         5.585027\n",
              "75%         6.795880\n",
              "max        14.301030\n",
              "Name: pIC50, dtype: float64"
            ]
          },
          "execution_count": 59,
          "metadata": {},
          "output_type": "execute_result"
        }
      ],
      "source": [
        "df_final.pIC50.describe()"
      ]
    },
    {
      "cell_type": "markdown",
      "metadata": {
        "colab_type": "text",
        "id": "TTB-xkOcgwRX"
      },
      "source": [
        "Let's write this to CSV file."
      ]
    },
    {
      "cell_type": "code",
      "execution_count": null,
      "metadata": {
        "colab": {},
        "colab_type": "code",
        "id": "sbZfHUSOgykw"
      },
      "outputs": [],
      "source": [
        "df_final.to_csv('data/acetylcholinesterase_04_bioactivity_data_3class_pIC50.csv')"
      ]
    },
    {
      "cell_type": "markdown",
      "metadata": {
        "colab_type": "text",
        "id": "05vHBWvqaQtb"
      },
      "source": [
        "### **Removing the 'intermediate' bioactivity class**\n",
        "Here, we will be removing the ``intermediate`` class from our data set."
      ]
    },
    {
      "cell_type": "code",
      "execution_count": 22,
      "metadata": {
        "colab": {
          "base_uri": "https://localhost:8080/",
          "height": 419
        },
        "colab_type": "code",
        "id": "HmrndhDW3c7Z",
        "outputId": "dbc2255b-ed9c-460c-c12c-1795a735c9e7"
      },
      "outputs": [
        {
          "data": {
            "application/vnd.microsoft.datawrangler.viewer.v0+json": {
              "columns": [
                {
                  "name": "index",
                  "rawType": "int64",
                  "type": "integer"
                },
                {
                  "name": "molecule_chembl_id",
                  "rawType": "object",
                  "type": "string"
                },
                {
                  "name": "canonical_smiles",
                  "rawType": "object",
                  "type": "string"
                },
                {
                  "name": "class",
                  "rawType": "object",
                  "type": "string"
                },
                {
                  "name": "MW",
                  "rawType": "float64",
                  "type": "float"
                },
                {
                  "name": "LogP",
                  "rawType": "float64",
                  "type": "float"
                },
                {
                  "name": "NumHDonors",
                  "rawType": "int64",
                  "type": "integer"
                },
                {
                  "name": "NumHAcceptors",
                  "rawType": "int64",
                  "type": "integer"
                },
                {
                  "name": "pIC50",
                  "rawType": "float64",
                  "type": "float"
                }
              ],
              "conversionMethod": "pd.DataFrame",
              "ref": "a43c1b5c-6784-43b2-9de3-6a2b3734cdbe",
              "rows": [
                [
                  "0",
                  "CHEMBL133897",
                  "CCOc1nn(-c2cccc(OCc3ccccc3)c2)c(=O)o1",
                  "active",
                  "312.32500000000005",
                  "2.8032000000000004",
                  "0",
                  "6",
                  "6.1249387366083"
                ],
                [
                  "1",
                  "CHEMBL336398",
                  "O=C(N1CCCCC1)n1nc(-c2ccc(Cl)cc2)nc1SCC1CC1",
                  "active",
                  "376.9130000000002",
                  "4.554600000000004",
                  "0",
                  "5",
                  "7.0"
                ],
                [
                  "2",
                  "CHEMBL131588",
                  "CN(C(=O)n1nc(-c2ccc(Cl)cc2)nc1SCC(F)(F)F)c1ccccc1",
                  "inactive",
                  "426.8510000000001",
                  "5.357400000000003",
                  "0",
                  "5",
                  "4.301029995663981"
                ],
                [
                  "3",
                  "CHEMBL130628",
                  "O=C(N1CCCCC1)n1nc(-c2ccc(Cl)cc2)nc1SCC(F)(F)F",
                  "active",
                  "404.8450000000001",
                  "4.706900000000003",
                  "0",
                  "5",
                  "6.522878745280337"
                ],
                [
                  "4",
                  "CHEMBL130478",
                  "CSc1nc(-c2ccc(OC(F)(F)F)cc2)nn1C(=O)N(C)C",
                  "active",
                  "346.33400000000006",
                  "3.095300000000001",
                  "0",
                  "6",
                  "6.096910013008056"
                ],
                [
                  "6",
                  "CHEMBL130098",
                  "CSc1nc(-c2ccc(Cl)cc2)nn1C(=O)N(C)C",
                  "active",
                  "296.783",
                  "2.850100000000001",
                  "0",
                  "5",
                  "7.0"
                ],
                [
                  "7",
                  "CHEMBL337486",
                  "CCCCCCSc1nc(-c2ccc(Cl)cc2)nn1C(=O)N1CCOCC1",
                  "inactive",
                  "408.95500000000027",
                  "4.571200000000005",
                  "0",
                  "6",
                  "4.301029995663981"
                ],
                [
                  "8",
                  "CHEMBL336538",
                  "COc1ccc(-c2nc(SC)n(C(=O)N(C)C)n2)cc1",
                  "active",
                  "292.364",
                  "2.2053000000000003",
                  "0",
                  "6",
                  "6.096910013008056"
                ],
                [
                  "9",
                  "CHEMBL131051",
                  "CSc1nc(-c2ccc(OC(F)(F)F)cc2)nn1C(=O)N(C)c1ccccc1",
                  "inactive",
                  "408.4050000000001",
                  "4.670100000000003",
                  "0",
                  "6",
                  "4.301029995663981"
                ],
                [
                  "10",
                  "CHEMBL341437",
                  "CCSc1nc(-c2ccc(OC)cc2)nn1C(=O)N1CCOCC1",
                  "inactive",
                  "348.4280000000002",
                  "2.3659999999999997",
                  "0",
                  "7",
                  "4.301029995663981"
                ],
                [
                  "11",
                  "CHEMBL335033",
                  "CSc1nc(-c2ccc3ccccc3c2)nn1C(=O)N(C)C",
                  "active",
                  "312.3980000000001",
                  "3.3499000000000017",
                  "0",
                  "5",
                  "7.301029995663981"
                ],
                [
                  "12",
                  "CHEMBL122983",
                  "C[C@H]1C(=O)N(C(=O)NCc2ccccc2)[C@@H]1Oc1ccc(C(=O)C(C)(C)C)cc1",
                  "inactive",
                  "394.4710000000002",
                  "4.0084000000000035",
                  "1",
                  "4",
                  "4.0"
                ],
                [
                  "13",
                  "CHEMBL338720",
                  "CSc1nc(-c2ccc(-c3ccccc3)cc2)nn1C(=O)N(C)C",
                  "active",
                  "338.4360000000001",
                  "3.8637000000000032",
                  "0",
                  "5",
                  "6.251811972993799"
                ],
                [
                  "14",
                  "CHEMBL339995",
                  "CSc1nc(/C=C/c2ccccc2)nn1C(=O)N(C)C",
                  "active",
                  "288.37600000000003",
                  "2.700100000000001",
                  "0",
                  "5",
                  "8.0"
                ],
                [
                  "15",
                  "CHEMBL335158",
                  "CCCCCCSc1nc(-c2ccc(Cl)cc2)nn1C(=O)N1CCCCC1",
                  "active",
                  "406.9830000000003",
                  "5.724900000000006",
                  "0",
                  "5",
                  "8.0"
                ],
                [
                  "17",
                  "CHEMBL106126",
                  "Cc1c(C(C)C)c(=O)on1C(=O)N1CCC[C@H](C)C1",
                  "inactive",
                  "266.34099999999995",
                  "2.5731200000000003",
                  "0",
                  "4",
                  "4.769551078621726"
                ],
                [
                  "19",
                  "CHEMBL336625",
                  "CCCCCCSc1nc(-c2ccc(C)cc2)nn1C(=O)N(C)c1ccccc1",
                  "inactive",
                  "408.57100000000014",
                  "6.0304200000000066",
                  "0",
                  "5",
                  "4.301029995663981"
                ],
                [
                  "20",
                  "CHEMBL130666",
                  "CSc1nc(-c2ccc(Cl)cc2)nn1C(=O)N1CCCCC1",
                  "active",
                  "336.8480000000002",
                  "3.7744000000000026",
                  "0",
                  "5",
                  "7.585026652029182"
                ],
                [
                  "21",
                  "CHEMBL134061",
                  "O=C(N1CCOCC1)n1nc(-c2ccc(Cl)cc2)nc1SCC(F)(F)F",
                  "inactive",
                  "406.81700000000006",
                  "3.553200000000002",
                  "0",
                  "6",
                  "4.301029995663981"
                ],
                [
                  "22",
                  "CHEMBL133388",
                  "CSc1nc(-c2ccc(C)cc2)nn1C(=O)N(C)C",
                  "active",
                  "276.365",
                  "2.5051200000000007",
                  "0",
                  "5",
                  "6.096910013008056"
                ],
                [
                  "23",
                  "CHEMBL130645",
                  "CSc1nc(-c2ccc(Cl)cc2)nn1C(=O)N1CCOCC1",
                  "inactive",
                  "338.82000000000016",
                  "2.620700000000001",
                  "0",
                  "6",
                  "4.301029995663981"
                ],
                [
                  "24",
                  "CHEMBL133580",
                  "CCCCCCSc1nc(-c2ccc(Cl)cc2)nn1C(=O)N(C)c1ccccc1",
                  "inactive",
                  "428.98900000000015",
                  "6.375400000000006",
                  "0",
                  "5",
                  "4.301029995663981"
                ],
                [
                  "25",
                  "CHEMBL336524",
                  "CCSc1nc(-c2ccc(Cl)cc2)nn1C(=O)N(C)C",
                  "active",
                  "310.81000000000006",
                  "3.2402000000000015",
                  "0",
                  "5",
                  "7.251811972993799"
                ],
                [
                  "26",
                  "CHEMBL336276",
                  "CCCCCCSc1nc(-c2ccc(C)cc2)nn1C(=O)N(C)C",
                  "active",
                  "346.5000000000001",
                  "4.455620000000004",
                  "0",
                  "5",
                  "6.698970004336019"
                ],
                [
                  "27",
                  "CHEMBL334395",
                  "CCCSc1nc(-c2ccc(Cl)cc2)nn1C(=O)N(C)C",
                  "active",
                  "324.8370000000001",
                  "3.6303000000000027",
                  "0",
                  "5",
                  "6.522878745280337"
                ],
                [
                  "28",
                  "CHEMBL131320",
                  "Cc1ccc(-c2nc(SCC(F)(F)F)n(C(=O)N(C)C)n2)cc1",
                  "active",
                  "344.362",
                  "3.4376200000000017",
                  "0",
                  "5",
                  "6.698970004336019"
                ],
                [
                  "29",
                  "CHEMBL339297",
                  "COc1nn(-c2ccc(NC(=O)c3ccc(C(C)(C)C)cc3)cc2)c(=O)o1",
                  "inactive",
                  "367.4050000000001",
                  "3.3839000000000015",
                  "1",
                  "6",
                  "4.301029995663981"
                ],
                [
                  "30",
                  "CHEMBL337714",
                  "CSc1nc(-c2ccc(C(F)(F)F)cc2)nn1C(=O)N(C)C",
                  "active",
                  "330.33500000000004",
                  "3.2155000000000022",
                  "0",
                  "5",
                  "6.301029995663981"
                ],
                [
                  "31",
                  "CHEMBL122575",
                  "C[C@H]1C(=O)N(C(=O)NCc2ccccc2)[C@@H]1Oc1ccc(C(=O)O)cc1",
                  "inactive",
                  "354.3620000000001",
                  "2.4778000000000002",
                  "2",
                  "4",
                  "4.0"
                ],
                [
                  "32",
                  "CHEMBL130704",
                  "CSc1nc(-c2ccc(C)cc2)nn1C(=O)N1CCOCC1",
                  "inactive",
                  "318.40200000000016",
                  "2.2757199999999997",
                  "0",
                  "6",
                  "4.301029995663981"
                ],
                [
                  "33",
                  "CHEMBL46151",
                  "CCN(CC)CCS/C(=N\\O)C(=O)c1ccc(OC)cc1",
                  "inactive",
                  "310.41900000000004",
                  "2.7406000000000015",
                  "1",
                  "6",
                  "3.585026652029182"
                ],
                [
                  "34",
                  "CHEMBL54126",
                  "CN(C)C(=O)Oc1cccc([N+](C)(C)C)c1.[Br-]",
                  "active",
                  "223.29599999999996",
                  "1.9437",
                  "0",
                  "2",
                  "7.657577319177793"
                ],
                [
                  "35",
                  "CHEMBL297316",
                  "C[N+](C)(C)CCS/C(=N\\O)C(=O)c1ccc(F)cc1.[Cl-]",
                  "inactive",
                  "285.36400000000003",
                  "2.2355",
                  "1",
                  "4",
                  "3.0"
                ],
                [
                  "37",
                  "CHEMBL431519",
                  "CN1CC[C@@]2(C)c3cc(OC(=O)NCCCCCCCCCCN4CCOCC4)ccc3N(C)[C@@H]12",
                  "active",
                  "486.7010000000004",
                  "4.597100000000005",
                  "1",
                  "6",
                  "7.3979400086720375"
                ],
                [
                  "38",
                  "CHEMBL296429",
                  "Cc1ccc(C(=O)/C(=N/O)SCC[N+](C)(C)C)cc1.[Cl-]",
                  "inactive",
                  "281.401",
                  "2.404820000000001",
                  "1",
                  "4",
                  "3.0"
                ],
                [
                  "39",
                  "CHEMBL154972",
                  "N#CC(C#N)=C1Nc2ccccc2N1CCNCc1ccc(CN2CCCCC2)o1",
                  "active",
                  "402.5020000000003",
                  "3.5459600000000027",
                  "2",
                  "7",
                  "7.136677139879544"
                ],
                [
                  "41",
                  "CHEMBL544022",
                  "CCN(CC)CCS/C(=N\\O)C(=O)c1ccc(Cl)cc1.Cl",
                  "inactive",
                  "314.838",
                  "3.3854000000000015",
                  "1",
                  "5",
                  "3.283996656365201"
                ],
                [
                  "44",
                  "CHEMBL45118",
                  "CC[N+](C)(CC)CCS/C(=N\\O)C(=O)c1ccc(OC)cc1.[Cl-]",
                  "inactive",
                  "325.45400000000006",
                  "2.885200000000001",
                  "1",
                  "5",
                  "3.0"
                ],
                [
                  "45",
                  "CHEMBL542609",
                  "Cc1ccc(C(=O)/C(=N/O)SCCN(C)C)cc1.Cl",
                  "inactive",
                  "266.366",
                  "2.2602200000000003",
                  "1",
                  "5",
                  "3.0"
                ],
                [
                  "46",
                  "CHEMBL155322",
                  "CC1CCCCN1Cc1ccc(CNCCN2CCNC2=C(C#N)C#N)o1",
                  "active",
                  "368.4850000000001",
                  "1.90756",
                  "2",
                  "7",
                  "6.267606240177032"
                ],
                [
                  "47",
                  "CHEMBL154211",
                  "N#CC(C#N)=C1NCCN1CCNCc1ccc(CN2CCCCC2)o1",
                  "active",
                  "354.4580000000002",
                  "1.519059999999999",
                  "2",
                  "7",
                  "7.522878745280337"
                ],
                [
                  "48",
                  "CHEMBL1203537",
                  "CNC(NCCNCc1ccc(CN2CCCCC2)o1)=C(C#N)C#N.Cl",
                  "active",
                  "342.4470000000001",
                  "1.4228600000000002",
                  "3",
                  "7",
                  "6.080921907623926"
                ],
                [
                  "49",
                  "CHEMBL86",
                  "CCN(CC)CCNC(=O)c1cc(Cl)c(N)cc1OC",
                  "inactive",
                  "299.8020000000001",
                  "2.0023999999999997",
                  "2",
                  "4",
                  "4.698970004336019"
                ],
                [
                  "50",
                  "CHEMBL47375",
                  "COc1ccc(C(=O)/C(=N/O)SCC[N+](C)(C)C)cc1.[Cl-]",
                  "inactive",
                  "297.4",
                  "2.105",
                  "1",
                  "5",
                  "3.0"
                ],
                [
                  "51",
                  "CHEMBL542360",
                  "CN(C)CCS/C(=N\\O)C(=O)c1ccc(Cl)cc1.Cl",
                  "inactive",
                  "286.784",
                  "2.605200000000001",
                  "1",
                  "5",
                  "3.0"
                ],
                [
                  "52",
                  "CHEMBL345849",
                  "N#CC(C#N)=C1NCCN1CCNCc1ccc(CN2CCC(O)CC2)o1",
                  "active",
                  "370.45700000000016",
                  "0.4898599999999996",
                  "3",
                  "8",
                  "6.4089353929735005"
                ],
                [
                  "53",
                  "CHEMBL154689",
                  "CN(C)Cc1ccc(CNCCN2CCNC2=C(C#N)C#N)o1",
                  "active",
                  "314.39300000000003",
                  "0.5947600000000013",
                  "2",
                  "7",
                  "6.4089353929735005"
                ],
                [
                  "54",
                  "CHEMBL346733",
                  "CCN(C)Cc1ccc(CNCCN2CCNC2=C(C#N)C#N)o1",
                  "active",
                  "328.42",
                  "0.9848600000000001",
                  "2",
                  "7",
                  "6.366531544420414"
                ],
                [
                  "55",
                  "CHEMBL416464",
                  "COc1ccc(C(=O)/C(=N/O)SCCN(C)C)cc1",
                  "inactive",
                  "282.36499999999995",
                  "1.9604",
                  "1",
                  "6",
                  "3.0"
                ],
                [
                  "56",
                  "CHEMBL1203539",
                  "CCN(CC)Cc1ccc(CNCCN2CCNC2=C(C#N)C#N)o1.Cl",
                  "active",
                  "342.44700000000006",
                  "1.3749600000000006",
                  "2",
                  "7",
                  "6.221848749616356"
                ]
              ],
              "shape": {
                "columns": 8,
                "rows": 4968
              }
            },
            "text/html": [
              "<div>\n",
              "<style scoped>\n",
              "    .dataframe tbody tr th:only-of-type {\n",
              "        vertical-align: middle;\n",
              "    }\n",
              "\n",
              "    .dataframe tbody tr th {\n",
              "        vertical-align: top;\n",
              "    }\n",
              "\n",
              "    .dataframe thead th {\n",
              "        text-align: right;\n",
              "    }\n",
              "</style>\n",
              "<table border=\"1\" class=\"dataframe\">\n",
              "  <thead>\n",
              "    <tr style=\"text-align: right;\">\n",
              "      <th></th>\n",
              "      <th>molecule_chembl_id</th>\n",
              "      <th>canonical_smiles</th>\n",
              "      <th>class</th>\n",
              "      <th>MW</th>\n",
              "      <th>LogP</th>\n",
              "      <th>NumHDonors</th>\n",
              "      <th>NumHAcceptors</th>\n",
              "      <th>pIC50</th>\n",
              "    </tr>\n",
              "  </thead>\n",
              "  <tbody>\n",
              "    <tr>\n",
              "      <th>0</th>\n",
              "      <td>CHEMBL133897</td>\n",
              "      <td>CCOc1nn(-c2cccc(OCc3ccccc3)c2)c(=O)o1</td>\n",
              "      <td>active</td>\n",
              "      <td>312.325</td>\n",
              "      <td>2.8032</td>\n",
              "      <td>0</td>\n",
              "      <td>6</td>\n",
              "      <td>6.124939</td>\n",
              "    </tr>\n",
              "    <tr>\n",
              "      <th>1</th>\n",
              "      <td>CHEMBL336398</td>\n",
              "      <td>O=C(N1CCCCC1)n1nc(-c2ccc(Cl)cc2)nc1SCC1CC1</td>\n",
              "      <td>active</td>\n",
              "      <td>376.913</td>\n",
              "      <td>4.5546</td>\n",
              "      <td>0</td>\n",
              "      <td>5</td>\n",
              "      <td>7.000000</td>\n",
              "    </tr>\n",
              "    <tr>\n",
              "      <th>2</th>\n",
              "      <td>CHEMBL131588</td>\n",
              "      <td>CN(C(=O)n1nc(-c2ccc(Cl)cc2)nc1SCC(F)(F)F)c1ccccc1</td>\n",
              "      <td>inactive</td>\n",
              "      <td>426.851</td>\n",
              "      <td>5.3574</td>\n",
              "      <td>0</td>\n",
              "      <td>5</td>\n",
              "      <td>4.301030</td>\n",
              "    </tr>\n",
              "    <tr>\n",
              "      <th>3</th>\n",
              "      <td>CHEMBL130628</td>\n",
              "      <td>O=C(N1CCCCC1)n1nc(-c2ccc(Cl)cc2)nc1SCC(F)(F)F</td>\n",
              "      <td>active</td>\n",
              "      <td>404.845</td>\n",
              "      <td>4.7069</td>\n",
              "      <td>0</td>\n",
              "      <td>5</td>\n",
              "      <td>6.522879</td>\n",
              "    </tr>\n",
              "    <tr>\n",
              "      <th>4</th>\n",
              "      <td>CHEMBL130478</td>\n",
              "      <td>CSc1nc(-c2ccc(OC(F)(F)F)cc2)nn1C(=O)N(C)C</td>\n",
              "      <td>active</td>\n",
              "      <td>346.334</td>\n",
              "      <td>3.0953</td>\n",
              "      <td>0</td>\n",
              "      <td>6</td>\n",
              "      <td>6.096910</td>\n",
              "    </tr>\n",
              "    <tr>\n",
              "      <th>...</th>\n",
              "      <td>...</td>\n",
              "      <td>...</td>\n",
              "      <td>...</td>\n",
              "      <td>...</td>\n",
              "      <td>...</td>\n",
              "      <td>...</td>\n",
              "      <td>...</td>\n",
              "      <td>...</td>\n",
              "    </tr>\n",
              "    <tr>\n",
              "      <th>6636</th>\n",
              "      <td>CHEMBL5435795</td>\n",
              "      <td>O=Cc1ccc2n1CCc1cc(O)c(O)cc1C2</td>\n",
              "      <td>inactive</td>\n",
              "      <td>243.262</td>\n",
              "      <td>1.8587</td>\n",
              "      <td>2</td>\n",
              "      <td>4</td>\n",
              "      <td>4.233810</td>\n",
              "    </tr>\n",
              "    <tr>\n",
              "      <th>6637</th>\n",
              "      <td>CHEMBL5398421</td>\n",
              "      <td>COc1cc(O)c2c(c1)C(=O)c1cc(O)c(O)cc1CCN2</td>\n",
              "      <td>inactive</td>\n",
              "      <td>301.298</td>\n",
              "      <td>2.0110</td>\n",
              "      <td>4</td>\n",
              "      <td>6</td>\n",
              "      <td>4.337242</td>\n",
              "    </tr>\n",
              "    <tr>\n",
              "      <th>6638</th>\n",
              "      <td>CHEMBL11298</td>\n",
              "      <td>N[C@@H](CO)C(=O)O</td>\n",
              "      <td>inactive</td>\n",
              "      <td>105.093</td>\n",
              "      <td>-1.6094</td>\n",
              "      <td>3</td>\n",
              "      <td>3</td>\n",
              "      <td>4.416688</td>\n",
              "    </tr>\n",
              "    <tr>\n",
              "      <th>6640</th>\n",
              "      <td>CHEMBL5399112</td>\n",
              "      <td>O=C(Nc1cc(-c2nc3ccccc3[nH]2)n[nH]1)c1ccc(N2CCN...</td>\n",
              "      <td>inactive</td>\n",
              "      <td>387.447</td>\n",
              "      <td>2.6149</td>\n",
              "      <td>4</td>\n",
              "      <td>5</td>\n",
              "      <td>5.000000</td>\n",
              "    </tr>\n",
              "    <tr>\n",
              "      <th>6641</th>\n",
              "      <td>CHEMBL5402411</td>\n",
              "      <td>O=C(Nc1cc(-c2nc3ccccc3[nH]2)[nH]n1)c1ccc(N2CCO...</td>\n",
              "      <td>inactive</td>\n",
              "      <td>388.431</td>\n",
              "      <td>3.0419</td>\n",
              "      <td>3</td>\n",
              "      <td>5</td>\n",
              "      <td>5.000000</td>\n",
              "    </tr>\n",
              "  </tbody>\n",
              "</table>\n",
              "<p>4968 rows × 8 columns</p>\n",
              "</div>"
            ],
            "text/plain": [
              "     molecule_chembl_id                                   canonical_smiles  \\\n",
              "0          CHEMBL133897              CCOc1nn(-c2cccc(OCc3ccccc3)c2)c(=O)o1   \n",
              "1          CHEMBL336398         O=C(N1CCCCC1)n1nc(-c2ccc(Cl)cc2)nc1SCC1CC1   \n",
              "2          CHEMBL131588  CN(C(=O)n1nc(-c2ccc(Cl)cc2)nc1SCC(F)(F)F)c1ccccc1   \n",
              "3          CHEMBL130628      O=C(N1CCCCC1)n1nc(-c2ccc(Cl)cc2)nc1SCC(F)(F)F   \n",
              "4          CHEMBL130478          CSc1nc(-c2ccc(OC(F)(F)F)cc2)nn1C(=O)N(C)C   \n",
              "...                 ...                                                ...   \n",
              "6636      CHEMBL5435795                      O=Cc1ccc2n1CCc1cc(O)c(O)cc1C2   \n",
              "6637      CHEMBL5398421            COc1cc(O)c2c(c1)C(=O)c1cc(O)c(O)cc1CCN2   \n",
              "6638        CHEMBL11298                                  N[C@@H](CO)C(=O)O   \n",
              "6640      CHEMBL5399112  O=C(Nc1cc(-c2nc3ccccc3[nH]2)n[nH]1)c1ccc(N2CCN...   \n",
              "6641      CHEMBL5402411  O=C(Nc1cc(-c2nc3ccccc3[nH]2)[nH]n1)c1ccc(N2CCO...   \n",
              "\n",
              "         class       MW    LogP  NumHDonors  NumHAcceptors     pIC50  \n",
              "0       active  312.325  2.8032           0              6  6.124939  \n",
              "1       active  376.913  4.5546           0              5  7.000000  \n",
              "2     inactive  426.851  5.3574           0              5  4.301030  \n",
              "3       active  404.845  4.7069           0              5  6.522879  \n",
              "4       active  346.334  3.0953           0              6  6.096910  \n",
              "...        ...      ...     ...         ...            ...       ...  \n",
              "6636  inactive  243.262  1.8587           2              4  4.233810  \n",
              "6637  inactive  301.298  2.0110           4              6  4.337242  \n",
              "6638  inactive  105.093 -1.6094           3              3  4.416688  \n",
              "6640  inactive  387.447  2.6149           4              5  5.000000  \n",
              "6641  inactive  388.431  3.0419           3              5  5.000000  \n",
              "\n",
              "[4968 rows x 8 columns]"
            ]
          },
          "execution_count": 22,
          "metadata": {},
          "output_type": "execute_result"
        }
      ],
      "source": [
        "df_2class = df_final[df_final['class'] != 'intermediate']\n",
        "df_2class"
      ]
    },
    {
      "cell_type": "markdown",
      "metadata": {
        "colab_type": "text",
        "id": "GJGRNXXigd1o"
      },
      "source": [
        "Let's write this to CSV file."
      ]
    },
    {
      "cell_type": "code",
      "execution_count": null,
      "metadata": {
        "colab": {},
        "colab_type": "code",
        "id": "XIiYdeL5ghCo"
      },
      "outputs": [],
      "source": [
        "df_2class.to_csv('data/acetylcholinesterase_05_bioactivity_data_2class_pIC50.csv')"
      ]
    },
    {
      "cell_type": "markdown",
      "metadata": {
        "colab_type": "text",
        "id": "p9vA4-hQQ8sA"
      },
      "source": [
        "---"
      ]
    },
    {
      "cell_type": "markdown",
      "metadata": {
        "colab_type": "text",
        "id": "x0vqbQWfxsZu"
      },
      "source": [
        "## **Exploratory Data Analysis (Chemical Space Analysis) via Lipinski descriptors**"
      ]
    },
    {
      "cell_type": "markdown",
      "metadata": {
        "colab_type": "text",
        "id": "18heJagiyHoF"
      },
      "source": [
        "### **Import library**"
      ]
    },
    {
      "cell_type": "code",
      "execution_count": 24,
      "metadata": {
        "colab": {
          "base_uri": "https://localhost:8080/",
          "height": 51
        },
        "colab_type": "code",
        "id": "0Egq_rNsxtIj",
        "outputId": "33657ad8-3fcc-41cd-83ab-6f4f8c0a9e84"
      },
      "outputs": [],
      "source": [
        "import seaborn as sns\n",
        "sns.set(style='ticks')\n",
        "import matplotlib.pyplot as plt"
      ]
    },
    {
      "cell_type": "markdown",
      "metadata": {
        "colab_type": "text",
        "id": "NiarmFbOdG3H"
      },
      "source": [
        "### **Frequency plot of the 2 bioactivity classes**"
      ]
    },
    {
      "cell_type": "code",
      "execution_count": null,
      "metadata": {
        "colab": {
          "base_uri": "https://localhost:8080/",
          "height": 367
        },
        "colab_type": "code",
        "id": "w2Ia0iycdMO2",
        "outputId": "fa37bcfd-af06-4e4b-c754-b6fb2b1b4f97"
      },
      "outputs": [
        {
          "data": {
            "image/png": "[encoded data removed]",
            "text/plain": [
              "<Figure size 550x550 with 1 Axes>"
            ]
          },
          "metadata": {},
          "output_type": "display_data"
        }
      ],
      "source": [
        "plt.figure(figsize=(5.5, 5.5))\n",
        "\n",
        "sns.countplot(x='class', data=df_2class, palette='Set2', hue = 'class', edgecolor='black')\n",
        "\n",
        "plt.xlabel('Bioactivity class', fontsize=14, fontweight='bold')\n",
        "plt.ylabel('Frequency', fontsize=14, fontweight='bold')\n",
        "\n",
        "plt.savefig('results/plot_bioactivity_class.pdf')"
      ]
    },
    {
      "cell_type": "markdown",
      "metadata": {
        "colab_type": "text",
        "id": "wB68NKVG0j68"
      },
      "source": [
        "### **Scatter plot of MW versus LogP**\n",
        "\n",
        "It can be seen that the 2 bioactivity classes are spanning similar chemical spaces as evident by the scatter plot of MW vs LogP."
      ]
    },
    {
      "cell_type": "code",
      "execution_count": null,
      "metadata": {
        "colab": {
          "base_uri": "https://localhost:8080/",
          "height": 367
        },
        "colab_type": "code",
        "id": "F79BNwjF0nub",
        "outputId": "a80f9843-848a-4eb0-ff78-e9473d5d2d4b"
      },
      "outputs": [
        {
          "data": {
            "image/png": "[encoded data removed]",
            "text/plain": [
              "<Figure size 550x550 with 1 Axes>"
            ]
          },
          "metadata": {},
          "output_type": "display_data"
        }
      ],
      "source": [
        "plt.figure(figsize=(5.5, 5.5))\n",
        "\n",
        "sns.scatterplot(x='MW', y='LogP', data=df_2class, palette='Set2', hue='class', size='pIC50', edgecolor='black', alpha=0.7)\n",
        "\n",
        "plt.xlabel('MW', fontsize=14, fontweight='bold')\n",
        "plt.ylabel('LogP', fontsize=14, fontweight='bold')\n",
        "plt.legend(bbox_to_anchor=(1.05, 1), loc=2, borderaxespad=0)\n",
        "plt.savefig('results/plot_MW_vs_LogP.pdf')"
      ]
    },
    {
      "cell_type": "markdown",
      "metadata": {
        "colab_type": "text",
        "id": "oLAfyRwHyJfX"
      },
      "source": [
        "### **Box plots**"
      ]
    },
    {
      "cell_type": "markdown",
      "metadata": {
        "colab_type": "text",
        "id": "1n1uIAivyOkY"
      },
      "source": [
        "#### **pIC50 value**"
      ]
    },
    {
      "cell_type": "code",
      "execution_count": 27,
      "metadata": {
        "colab": {
          "base_uri": "https://localhost:8080/",
          "height": 367
        },
        "colab_type": "code",
        "id": "EpPviw0hxue6",
        "outputId": "a6386fee-ae04-4bf0-93cb-c95bcf801432"
      },
      "outputs": [
        {
          "data": {
            "image/png": "[encoded data removed]",
            "text/plain": [
              "<Figure size 550x550 with 1 Axes>"
            ]
          },
          "metadata": {},
          "output_type": "display_data"
        }
      ],
      "source": [
        "plt.figure(figsize=(5.5, 5.5))\n",
        "\n",
        "sns.boxplot(x = 'class', y = 'pIC50', palette='Set2', hue = 'class', data = df_2class)\n",
        "\n",
        "plt.xlabel('Bioactivity class', fontsize=14, fontweight='bold')\n",
        "plt.ylabel('pIC50 value', fontsize=14, fontweight='bold')\n",
        "\n",
        "plt.savefig('plot_ic50.pdf')"
      ]
    },
    {
      "cell_type": "markdown",
      "metadata": {
        "colab_type": "text",
        "id": "PsOqKyysCZCv"
      },
      "source": [
        "**Statistical analysis | Mann-Whitney U Test**"
      ]
    },
    {
      "cell_type": "code",
      "execution_count": 39,
      "metadata": {
        "colab": {},
        "colab_type": "code",
        "id": "LPdV1vDnWBsh"
      },
      "outputs": [],
      "source": [
        "\n",
        "def mannwhitney(descriptor, verbose=False):\n",
        "  # https://machinelearningmastery.com/nonparametric-statistical-significance-tests-in-python/\n",
        "  from numpy.random import seed\n",
        "  from numpy.random import randn\n",
        "  from scipy.stats import mannwhitneyu\n",
        "\n",
        "# seed the random number generator\n",
        "  seed(1)\n",
        "\n",
        "# actives and inactives\n",
        "  selection = [descriptor, 'class']\n",
        "  df = df_2class[selection]\n",
        "  active = df[df[\"class\"] == 'active']\n",
        "  active = active[descriptor]\n",
        "\n",
        "  selection = [descriptor, 'class']\n",
        "  df = df_2class[selection]\n",
        "  inactive = df[df[\"class\"] == 'inactive']\n",
        "  inactive = inactive[descriptor]\n",
        "\n",
        "# compare samples\n",
        "  stat, p = mannwhitneyu(active, inactive)\n",
        "  #print('Statistics=%.3f, p=%.3f' % (stat, p))\n",
        "\n",
        "# interpret\n",
        "  alpha = 0.05\n",
        "  if p > alpha:\n",
        "    interpretation = 'Same distribution (fail to reject null hypothesis)'\n",
        "  else:\n",
        "    interpretation = 'Different distribution (reject null hypothesis)'\n",
        "\n",
        "  results = pd.DataFrame({'Descriptor':descriptor,\n",
        "                          'Statistics':stat,\n",
        "                          'p':p,\n",
        "                          'alpha':alpha,\n",
        "                          'Interpretation':interpretation}, index=[0])\n",
        "  filename = 'mannwhitneyu_' + descriptor + '.csv'\n",
        "  results.to_csv(filename)\n",
        "\n",
        "  return results\n"
      ]
    },
    {
      "cell_type": "code",
      "execution_count": 40,
      "metadata": {
        "colab": {
          "base_uri": "https://localhost:8080/",
          "height": 80
        },
        "colab_type": "code",
        "id": "HZmUgOmdYVm5",
        "outputId": "3a9ba656-596c-434a-e52f-5696325cd4e7"
      },
      "outputs": [
        {
          "data": {
            "application/vnd.microsoft.datawrangler.viewer.v0+json": {
              "columns": [
                {
                  "name": "index",
                  "rawType": "int64",
                  "type": "integer"
                },
                {
                  "name": "Descriptor",
                  "rawType": "object",
                  "type": "string"
                },
                {
                  "name": "Statistics",
                  "rawType": "float64",
                  "type": "float"
                },
                {
                  "name": "p",
                  "rawType": "float64",
                  "type": "float"
                },
                {
                  "name": "alpha",
                  "rawType": "float64",
                  "type": "float"
                },
                {
                  "name": "Interpretation",
                  "rawType": "object",
                  "type": "string"
                }
              ],
              "conversionMethod": "pd.DataFrame",
              "ref": "ba23d550-e9a0-4575-9217-9dba6f11cc85",
              "rows": [
                [
                  "0",
                  "pIC50",
                  "6103175.0",
                  "0.0",
                  "0.05",
                  "Different distribution (reject null hypothesis)"
                ]
              ],
              "shape": {
                "columns": 5,
                "rows": 1
              }
            },
            "text/html": [
              "<div>\n",
              "<style scoped>\n",
              "    .dataframe tbody tr th:only-of-type {\n",
              "        vertical-align: middle;\n",
              "    }\n",
              "\n",
              "    .dataframe tbody tr th {\n",
              "        vertical-align: top;\n",
              "    }\n",
              "\n",
              "    .dataframe thead th {\n",
              "        text-align: right;\n",
              "    }\n",
              "</style>\n",
              "<table border=\"1\" class=\"dataframe\">\n",
              "  <thead>\n",
              "    <tr style=\"text-align: right;\">\n",
              "      <th></th>\n",
              "      <th>Descriptor</th>\n",
              "      <th>Statistics</th>\n",
              "      <th>p</th>\n",
              "      <th>alpha</th>\n",
              "      <th>Interpretation</th>\n",
              "    </tr>\n",
              "  </thead>\n",
              "  <tbody>\n",
              "    <tr>\n",
              "      <th>0</th>\n",
              "      <td>pIC50</td>\n",
              "      <td>6103175.0</td>\n",
              "      <td>0.0</td>\n",
              "      <td>0.05</td>\n",
              "      <td>Different distribution (reject null hypothesis)</td>\n",
              "    </tr>\n",
              "  </tbody>\n",
              "</table>\n",
              "</div>"
            ],
            "text/plain": [
              "  Descriptor  Statistics    p  alpha  \\\n",
              "0      pIC50   6103175.0  0.0   0.05   \n",
              "\n",
              "                                    Interpretation  \n",
              "0  Different distribution (reject null hypothesis)  "
            ]
          },
          "execution_count": 40,
          "metadata": {},
          "output_type": "execute_result"
        }
      ],
      "source": [
        "mannwhitney('pIC50')"
      ]
    },
    {
      "cell_type": "markdown",
      "metadata": {
        "colab_type": "text",
        "id": "o2UlCwPmyTBq"
      },
      "source": [
        "#### **MW**"
      ]
    },
    {
      "cell_type": "code",
      "execution_count": null,
      "metadata": {
        "colab": {
          "base_uri": "https://localhost:8080/",
          "height": 370
        },
        "colab_type": "code",
        "id": "ZNlEEsDEx3m6",
        "outputId": "819f291c-d893-4ff6-f4ca-28b46351e999"
      },
      "outputs": [
        {
          "data": {
            "image/png": "[encoded data removed]",
            "text/plain": [
              "<Figure size 550x550 with 1 Axes>"
            ]
          },
          "metadata": {},
          "output_type": "display_data"
        }
      ],
      "source": [
        "plt.figure(figsize=(5.5, 5.5))\n",
        "\n",
        "sns.boxplot(x = 'class', y = 'MW', palette='Set2', hue = 'class', data = df_2class)\n",
        "\n",
        "plt.xlabel('Bioactivity class', fontsize=14, fontweight='bold')\n",
        "plt.ylabel('MW', fontsize=14, fontweight='bold')\n",
        "\n",
        "plt.savefig('results/plot_MW.pdf')"
      ]
    },
    {
      "cell_type": "code",
      "execution_count": 42,
      "metadata": {
        "colab": {
          "base_uri": "https://localhost:8080/",
          "height": 80
        },
        "colab_type": "code",
        "id": "wRl2FvgHYqaG",
        "outputId": "01f76db8-fdaf-40af-9161-888f5065b07b"
      },
      "outputs": [
        {
          "data": {
            "application/vnd.microsoft.datawrangler.viewer.v0+json": {
              "columns": [
                {
                  "name": "index",
                  "rawType": "int64",
                  "type": "integer"
                },
                {
                  "name": "Descriptor",
                  "rawType": "object",
                  "type": "string"
                },
                {
                  "name": "Statistics",
                  "rawType": "float64",
                  "type": "float"
                },
                {
                  "name": "p",
                  "rawType": "float64",
                  "type": "float"
                },
                {
                  "name": "alpha",
                  "rawType": "float64",
                  "type": "float"
                },
                {
                  "name": "Interpretation",
                  "rawType": "object",
                  "type": "string"
                }
              ],
              "conversionMethod": "pd.DataFrame",
              "ref": "fd06dd6e-f431-4bd8-9f2e-a8f92de22d6b",
              "rows": [
                [
                  "0",
                  "MW",
                  "3960738.0",
                  "4.19864873950551e-73",
                  "0.05",
                  "Different distribution (reject null hypothesis)"
                ]
              ],
              "shape": {
                "columns": 5,
                "rows": 1
              }
            },
            "text/html": [
              "<div>\n",
              "<style scoped>\n",
              "    .dataframe tbody tr th:only-of-type {\n",
              "        vertical-align: middle;\n",
              "    }\n",
              "\n",
              "    .dataframe tbody tr th {\n",
              "        vertical-align: top;\n",
              "    }\n",
              "\n",
              "    .dataframe thead th {\n",
              "        text-align: right;\n",
              "    }\n",
              "</style>\n",
              "<table border=\"1\" class=\"dataframe\">\n",
              "  <thead>\n",
              "    <tr style=\"text-align: right;\">\n",
              "      <th></th>\n",
              "      <th>Descriptor</th>\n",
              "      <th>Statistics</th>\n",
              "      <th>p</th>\n",
              "      <th>alpha</th>\n",
              "      <th>Interpretation</th>\n",
              "    </tr>\n",
              "  </thead>\n",
              "  <tbody>\n",
              "    <tr>\n",
              "      <th>0</th>\n",
              "      <td>MW</td>\n",
              "      <td>3960738.0</td>\n",
              "      <td>4.198649e-73</td>\n",
              "      <td>0.05</td>\n",
              "      <td>Different distribution (reject null hypothesis)</td>\n",
              "    </tr>\n",
              "  </tbody>\n",
              "</table>\n",
              "</div>"
            ],
            "text/plain": [
              "  Descriptor  Statistics             p  alpha  \\\n",
              "0         MW   3960738.0  4.198649e-73   0.05   \n",
              "\n",
              "                                    Interpretation  \n",
              "0  Different distribution (reject null hypothesis)  "
            ]
          },
          "execution_count": 42,
          "metadata": {},
          "output_type": "execute_result"
        }
      ],
      "source": [
        "mannwhitney('MW')"
      ]
    },
    {
      "cell_type": "markdown",
      "metadata": {
        "colab_type": "text",
        "id": "z5hyBhGqyc6J"
      },
      "source": [
        "#### **LogP**"
      ]
    },
    {
      "cell_type": "code",
      "execution_count": null,
      "metadata": {
        "colab": {
          "base_uri": "https://localhost:8080/",
          "height": 367
        },
        "colab_type": "code",
        "id": "liEtkpI4yX9t",
        "outputId": "63ed7b14-b112-44d5-8f0d-8fe017ec0d43"
      },
      "outputs": [
        {
          "data": {
            "image/png": "[encoded data removed]",
            "text/plain": [
              "<Figure size 550x550 with 1 Axes>"
            ]
          },
          "metadata": {},
          "output_type": "display_data"
        }
      ],
      "source": [
        "plt.figure(figsize=(5.5, 5.5))\n",
        "\n",
        "sns.boxplot(x = 'class', y = 'LogP', palette='Set2', hue = 'class', data = df_2class)\n",
        "\n",
        "plt.xlabel('Bioactivity class', fontsize=14, fontweight='bold')\n",
        "plt.ylabel('LogP', fontsize=14, fontweight='bold')\n",
        "\n",
        "plt.savefig('results/plot_LogP.pdf')"
      ]
    },
    {
      "cell_type": "markdown",
      "metadata": {
        "colab_type": "text",
        "id": "2KgV5v_oFLXh"
      },
      "source": [
        "**Statistical analysis | Mann-Whitney U Test**"
      ]
    },
    {
      "cell_type": "code",
      "execution_count": 45,
      "metadata": {
        "colab": {
          "base_uri": "https://localhost:8080/",
          "height": 80
        },
        "colab_type": "code",
        "id": "B61UsGMIFLuE",
        "outputId": "3fd097e7-7a4a-4c6e-bc0c-af010caac7b2"
      },
      "outputs": [
        {
          "data": {
            "application/vnd.microsoft.datawrangler.viewer.v0+json": {
              "columns": [
                {
                  "name": "index",
                  "rawType": "int64",
                  "type": "integer"
                },
                {
                  "name": "Descriptor",
                  "rawType": "object",
                  "type": "string"
                },
                {
                  "name": "Statistics",
                  "rawType": "float64",
                  "type": "float"
                },
                {
                  "name": "p",
                  "rawType": "float64",
                  "type": "float"
                },
                {
                  "name": "alpha",
                  "rawType": "float64",
                  "type": "float"
                },
                {
                  "name": "Interpretation",
                  "rawType": "object",
                  "type": "string"
                }
              ],
              "conversionMethod": "pd.DataFrame",
              "ref": "cf027e7b-ada5-4846-b836-d2f38043437e",
              "rows": [
                [
                  "0",
                  "LogP",
                  "4060495.5",
                  "1.3725626930567277e-89",
                  "0.05",
                  "Different distribution (reject null hypothesis)"
                ]
              ],
              "shape": {
                "columns": 5,
                "rows": 1
              }
            },
            "text/html": [
              "<div>\n",
              "<style scoped>\n",
              "    .dataframe tbody tr th:only-of-type {\n",
              "        vertical-align: middle;\n",
              "    }\n",
              "\n",
              "    .dataframe tbody tr th {\n",
              "        vertical-align: top;\n",
              "    }\n",
              "\n",
              "    .dataframe thead th {\n",
              "        text-align: right;\n",
              "    }\n",
              "</style>\n",
              "<table border=\"1\" class=\"dataframe\">\n",
              "  <thead>\n",
              "    <tr style=\"text-align: right;\">\n",
              "      <th></th>\n",
              "      <th>Descriptor</th>\n",
              "      <th>Statistics</th>\n",
              "      <th>p</th>\n",
              "      <th>alpha</th>\n",
              "      <th>Interpretation</th>\n",
              "    </tr>\n",
              "  </thead>\n",
              "  <tbody>\n",
              "    <tr>\n",
              "      <th>0</th>\n",
              "      <td>LogP</td>\n",
              "      <td>4060495.5</td>\n",
              "      <td>1.372563e-89</td>\n",
              "      <td>0.05</td>\n",
              "      <td>Different distribution (reject null hypothesis)</td>\n",
              "    </tr>\n",
              "  </tbody>\n",
              "</table>\n",
              "</div>"
            ],
            "text/plain": [
              "  Descriptor  Statistics             p  alpha  \\\n",
              "0       LogP   4060495.5  1.372563e-89   0.05   \n",
              "\n",
              "                                    Interpretation  \n",
              "0  Different distribution (reject null hypothesis)  "
            ]
          },
          "execution_count": 45,
          "metadata": {},
          "output_type": "execute_result"
        }
      ],
      "source": [
        "mannwhitney('LogP')"
      ]
    },
    {
      "cell_type": "markdown",
      "metadata": {
        "colab_type": "text",
        "id": "4db7LZLRym2k"
      },
      "source": [
        "#### **NumHDonors**"
      ]
    },
    {
      "cell_type": "code",
      "execution_count": null,
      "metadata": {
        "colab": {
          "base_uri": "https://localhost:8080/",
          "height": 367
        },
        "colab_type": "code",
        "id": "iru1JPM1yg5A",
        "outputId": "838b8622-b34a-4f93-bec1-9df19fc9f571"
      },
      "outputs": [
        {
          "data": {
            "image/png": "[encoded data removed]",
            "text/plain": [
              "<Figure size 550x550 with 1 Axes>"
            ]
          },
          "metadata": {},
          "output_type": "display_data"
        }
      ],
      "source": [
        "plt.figure(figsize=(5.5, 5.5))\n",
        "\n",
        "sns.boxplot(x = 'class', y = 'NumHDonors', palette='Set2', hue = 'class', data = df_2class)\n",
        "\n",
        "plt.xlabel('Bioactivity class', fontsize=14, fontweight='bold')\n",
        "plt.ylabel('NumHDonors', fontsize=14, fontweight='bold')\n",
        "\n",
        "plt.savefig('results/plot_NumHDonors.pdf')"
      ]
    },
    {
      "cell_type": "markdown",
      "metadata": {
        "colab_type": "text",
        "id": "vM5vZWanFe3c"
      },
      "source": [
        "**Statistical analysis | Mann-Whitney U Test**"
      ]
    },
    {
      "cell_type": "code",
      "execution_count": null,
      "metadata": {
        "colab": {
          "base_uri": "https://localhost:8080/",
          "height": 80
        },
        "colab_type": "code",
        "id": "mS-rOqq7Fd1E",
        "outputId": "d6e88523-ae95-4298-8550-f840fd8b5a36"
      },
      "outputs": [
        {
          "data": {
            "application/vnd.microsoft.datawrangler.viewer.v0+json": {
              "columns": [
                {
                  "name": "index",
                  "rawType": "int64",
                  "type": "integer"
                },
                {
                  "name": "Descriptor",
                  "rawType": "object",
                  "type": "string"
                },
                {
                  "name": "Statistics",
                  "rawType": "float64",
                  "type": "float"
                },
                {
                  "name": "p",
                  "rawType": "float64",
                  "type": "float"
                },
                {
                  "name": "alpha",
                  "rawType": "float64",
                  "type": "float"
                },
                {
                  "name": "Interpretation",
                  "rawType": "object",
                  "type": "string"
                }
              ],
              "conversionMethod": "pd.DataFrame",
              "ref": "5a68b8fc-2b88-4839-80d0-f76c92504032",
              "rows": [
                [
                  "0",
                  "NumHDonors",
                  "3451088.5",
                  "7.243896395000155e-17",
                  "0.05",
                  "Different distribution (reject null hypothesis)"
                ]
              ],
              "shape": {
                "columns": 5,
                "rows": 1
              }
            },
            "text/html": [
              "<div>\n",
              "<style scoped>\n",
              "    .dataframe tbody tr th:only-of-type {\n",
              "        vertical-align: middle;\n",
              "    }\n",
              "\n",
              "    .dataframe tbody tr th {\n",
              "        vertical-align: top;\n",
              "    }\n",
              "\n",
              "    .dataframe thead th {\n",
              "        text-align: right;\n",
              "    }\n",
              "</style>\n",
              "<table border=\"1\" class=\"dataframe\">\n",
              "  <thead>\n",
              "    <tr style=\"text-align: right;\">\n",
              "      <th></th>\n",
              "      <th>Descriptor</th>\n",
              "      <th>Statistics</th>\n",
              "      <th>p</th>\n",
              "      <th>alpha</th>\n",
              "      <th>Interpretation</th>\n",
              "    </tr>\n",
              "  </thead>\n",
              "  <tbody>\n",
              "    <tr>\n",
              "      <th>0</th>\n",
              "      <td>NumHDonors</td>\n",
              "      <td>3451088.5</td>\n",
              "      <td>7.243896e-17</td>\n",
              "      <td>0.05</td>\n",
              "      <td>Different distribution (reject null hypothesis)</td>\n",
              "    </tr>\n",
              "  </tbody>\n",
              "</table>\n",
              "</div>"
            ],
            "text/plain": [
              "   Descriptor  Statistics             p  alpha  \\\n",
              "0  NumHDonors   3451088.5  7.243896e-17   0.05   \n",
              "\n",
              "                                    Interpretation  \n",
              "0  Different distribution (reject null hypothesis)  "
            ]
          },
          "execution_count": 48,
          "metadata": {},
          "output_type": "execute_result"
        }
      ],
      "source": [
        "mannwhitney('results/NumHDonors')"
      ]
    },
    {
      "cell_type": "markdown",
      "metadata": {
        "colab_type": "text",
        "id": "yOYQ3QiSyu7-"
      },
      "source": [
        "#### **NumHAcceptors**"
      ]
    },
    {
      "cell_type": "code",
      "execution_count": null,
      "metadata": {
        "colab": {
          "base_uri": "https://localhost:8080/",
          "height": 367
        },
        "colab_type": "code",
        "id": "yCw6tgNCyxHf",
        "outputId": "3de01d96-1e31-4f95-8084-907f15901106"
      },
      "outputs": [
        {
          "data": {
            "image/png": "[encoded data removed]",
            "text/plain": [
              "<Figure size 550x550 with 1 Axes>"
            ]
          },
          "metadata": {},
          "output_type": "display_data"
        }
      ],
      "source": [
        "plt.figure(figsize=(5.5, 5.5))\n",
        "\n",
        "sns.boxplot(x = 'class', y = 'NumHAcceptors', palette='Set2', hue = 'class', data = df_2class)\n",
        "\n",
        "plt.xlabel('Bioactivity class', fontsize=14, fontweight='bold')\n",
        "plt.ylabel('NumHAcceptors', fontsize=14, fontweight='bold')\n",
        "\n",
        "plt.savefig('results/plot_NumHAcceptors.pdf')"
      ]
    },
    {
      "cell_type": "code",
      "execution_count": 50,
      "metadata": {
        "colab": {
          "base_uri": "https://localhost:8080/",
          "height": 80
        },
        "colab_type": "code",
        "id": "NEQoDZctFtGG",
        "outputId": "417d0d17-81f6-438f-dae4-70083b319b85"
      },
      "outputs": [
        {
          "data": {
            "application/vnd.microsoft.datawrangler.viewer.v0+json": {
              "columns": [
                {
                  "name": "index",
                  "rawType": "int64",
                  "type": "integer"
                },
                {
                  "name": "Descriptor",
                  "rawType": "object",
                  "type": "string"
                },
                {
                  "name": "Statistics",
                  "rawType": "float64",
                  "type": "float"
                },
                {
                  "name": "p",
                  "rawType": "float64",
                  "type": "float"
                },
                {
                  "name": "alpha",
                  "rawType": "float64",
                  "type": "float"
                },
                {
                  "name": "Interpretation",
                  "rawType": "object",
                  "type": "string"
                }
              ],
              "conversionMethod": "pd.DataFrame",
              "ref": "9bf1a275-1187-4a17-a4b8-f6543d048d0b",
              "rows": [
                [
                  "0",
                  "NumHAcceptors",
                  "3283588.5",
                  "2.7889305678353694e-06",
                  "0.05",
                  "Different distribution (reject null hypothesis)"
                ]
              ],
              "shape": {
                "columns": 5,
                "rows": 1
              }
            },
            "text/html": [
              "<div>\n",
              "<style scoped>\n",
              "    .dataframe tbody tr th:only-of-type {\n",
              "        vertical-align: middle;\n",
              "    }\n",
              "\n",
              "    .dataframe tbody tr th {\n",
              "        vertical-align: top;\n",
              "    }\n",
              "\n",
              "    .dataframe thead th {\n",
              "        text-align: right;\n",
              "    }\n",
              "</style>\n",
              "<table border=\"1\" class=\"dataframe\">\n",
              "  <thead>\n",
              "    <tr style=\"text-align: right;\">\n",
              "      <th></th>\n",
              "      <th>Descriptor</th>\n",
              "      <th>Statistics</th>\n",
              "      <th>p</th>\n",
              "      <th>alpha</th>\n",
              "      <th>Interpretation</th>\n",
              "    </tr>\n",
              "  </thead>\n",
              "  <tbody>\n",
              "    <tr>\n",
              "      <th>0</th>\n",
              "      <td>NumHAcceptors</td>\n",
              "      <td>3283588.5</td>\n",
              "      <td>0.000003</td>\n",
              "      <td>0.05</td>\n",
              "      <td>Different distribution (reject null hypothesis)</td>\n",
              "    </tr>\n",
              "  </tbody>\n",
              "</table>\n",
              "</div>"
            ],
            "text/plain": [
              "      Descriptor  Statistics         p  alpha  \\\n",
              "0  NumHAcceptors   3283588.5  0.000003   0.05   \n",
              "\n",
              "                                    Interpretation  \n",
              "0  Different distribution (reject null hypothesis)  "
            ]
          },
          "execution_count": 50,
          "metadata": {},
          "output_type": "execute_result"
        }
      ],
      "source": [
        "mannwhitney('NumHAcceptors')"
      ]
    },
    {
      "cell_type": "markdown",
      "metadata": {
        "colab_type": "text",
        "id": "p4QjdHVjKYum"
      },
      "source": [
        "#### **Interpretation of Statistical Results**"
      ]
    },
    {
      "cell_type": "markdown",
      "metadata": {
        "colab_type": "text",
        "id": "mSoOBIqfLbDs"
      },
      "source": [
        "##### **Box Plots**\n",
        "\n",
        "###### **pIC50 values**\n",
        "\n",
        "Taking a look at pIC50 values, the **actives** and **inactives** displayed ***statistically significant difference***, which is to be expected since threshold values (``IC50 < 1,000 nM = Actives while IC50 > 10,000 nM = Inactives``, corresponding to ``pIC50 > 6 = Actives and pIC50 < 5 = Inactives``) were used to define actives and inactives.\n",
        "\n",
        "###### **Lipinski's descriptors**\n",
        "\n",
        "All of the 4 Lipinski's descriptors exhibited ***statistically significant difference*** between the **actives** and **inactives**."
      ]
    }
  ],
  "metadata": {
    "colab": {
      "collapsed_sections": [],
      "name": "CDD-ML-Part-2-Exploratory-Data-Analysis-Acetylcholinesterase.ipynb",
      "provenance": []
    },
    "kernelspec": {
      "display_name": "bioenv",
      "language": "python",
      "name": "python3"
    },
    "language_info": {
      "codemirror_mode": {
        "name": "ipython",
        "version": 3
      },
      "file_extension": ".py",
      "mimetype": "text/x-python",
      "name": "python",
      "nbconvert_exporter": "python",
      "pygments_lexer": "ipython3",
      "version": "3.10.16"
    }
  },
  "nbformat": 4,
  "nbformat_minor": 0
}
